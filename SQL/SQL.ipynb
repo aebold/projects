{
 "cells": [
  {
   "cell_type": "markdown",
   "metadata": {},
   "source": [
    "**1. Описание и цель проекта**"
   ]
  },
  {
   "cell_type": "markdown",
   "metadata": {},
   "source": [
    "В ходе проекта будет произведён анализ базы данных, содержащей информацию о книгах, издательствах, авторах, а также пользовательские обзоры книг. На основании полученных данных будут сформулированы ценностные предложения для нового продукта."
   ]
  },
  {
   "cell_type": "markdown",
   "metadata": {},
   "source": [
    "**2. Загрузка данных**"
   ]
  },
  {
   "cell_type": "code",
   "execution_count": 1,
   "metadata": {},
   "outputs": [],
   "source": [
    "# импортируем библиотеки\n",
    "import pandas as pd\n",
    "from sqlalchemy import create_engine"
   ]
  },
  {
   "cell_type": "code",
   "execution_count": 2,
   "metadata": {},
   "outputs": [],
   "source": [
    "# устанавливаем параметры\n",
    "db_config = {'user': 'praktikum_student', # имя пользователя\n",
    " 'pwd': 'Sdf4$2;d-d30pp', # пароль\n",
    " 'host': 'rc1b-wcoijxj3yxfsf3fs.mdb.yandexcloud.net',\n",
    " 'port': 6432, # порт подключения\n",
    " 'db': 'data-analyst-final-project-db'} # название базы данных\n",
    "connection_string = 'postgresql://{}:{}@{}:{}/{}'.format(db_config['user'],\n",
    " db_config['pwd'],\n",
    " db_config['host'],\n",
    " db_config['port'],\n",
    " db_config['db'])\n",
    "# сохраняем коннектор\n",
    "engine = create_engine(connection_string, connect_args={'sslmode':'require'}) "
   ]
  },
  {
   "cell_type": "markdown",
   "metadata": {},
   "source": [
    "**3. Список таблиц БД и вывод их первых строк**"
   ]
  },
  {
   "cell_type": "code",
   "execution_count": 3,
   "metadata": {},
   "outputs": [
    {
     "data": {
      "text/html": [
       "<div>\n",
       "<style scoped>\n",
       "    .dataframe tbody tr th:only-of-type {\n",
       "        vertical-align: middle;\n",
       "    }\n",
       "\n",
       "    .dataframe tbody tr th {\n",
       "        vertical-align: top;\n",
       "    }\n",
       "\n",
       "    .dataframe thead th {\n",
       "        text-align: right;\n",
       "    }\n",
       "</style>\n",
       "<table border=\"1\" class=\"dataframe\">\n",
       "  <thead>\n",
       "    <tr style=\"text-align: right;\">\n",
       "      <th></th>\n",
       "      <th>0</th>\n",
       "      <th>1</th>\n",
       "      <th>2</th>\n",
       "      <th>3</th>\n",
       "      <th>4</th>\n",
       "      <th>5</th>\n",
       "      <th>6</th>\n",
       "      <th>7</th>\n",
       "    </tr>\n",
       "  </thead>\n",
       "  <tbody>\n",
       "    <tr>\n",
       "      <td>table_name</td>\n",
       "      <td>orders</td>\n",
       "      <td>visits</td>\n",
       "      <td>advertisment_costs</td>\n",
       "      <td>publishers</td>\n",
       "      <td>authors</td>\n",
       "      <td>reviews</td>\n",
       "      <td>ratings</td>\n",
       "      <td>books</td>\n",
       "    </tr>\n",
       "  </tbody>\n",
       "</table>\n",
       "</div>"
      ],
      "text/plain": [
       "                 0       1                   2           3        4        5  \\\n",
       "table_name  orders  visits  advertisment_costs  publishers  authors  reviews   \n",
       "\n",
       "                  6      7  \n",
       "table_name  ratings  books  "
      ]
     },
     "execution_count": 3,
     "metadata": {},
     "output_type": "execute_result"
    }
   ],
   "source": [
    "q = '''SELECT table_name\n",
    "       FROM information_schema.tables \n",
    "       WHERE table_schema NOT IN ('information_schema','pg_catalog');'''\n",
    "\n",
    "pd.io.sql.read_sql(q, con = engine).T"
   ]
  },
  {
   "cell_type": "code",
   "execution_count": 4,
   "metadata": {},
   "outputs": [
    {
     "data": {
      "text/html": [
       "<div>\n",
       "<style scoped>\n",
       "    .dataframe tbody tr th:only-of-type {\n",
       "        vertical-align: middle;\n",
       "    }\n",
       "\n",
       "    .dataframe tbody tr th {\n",
       "        vertical-align: top;\n",
       "    }\n",
       "\n",
       "    .dataframe thead th {\n",
       "        text-align: right;\n",
       "    }\n",
       "</style>\n",
       "<table border=\"1\" class=\"dataframe\">\n",
       "  <thead>\n",
       "    <tr style=\"text-align: right;\">\n",
       "      <th></th>\n",
       "      <th>book_id</th>\n",
       "      <th>author_id</th>\n",
       "      <th>title</th>\n",
       "      <th>num_pages</th>\n",
       "      <th>publication_date</th>\n",
       "      <th>publisher_id</th>\n",
       "    </tr>\n",
       "  </thead>\n",
       "  <tbody>\n",
       "    <tr>\n",
       "      <td>0</td>\n",
       "      <td>1</td>\n",
       "      <td>546</td>\n",
       "      <td>'Salem's Lot</td>\n",
       "      <td>594</td>\n",
       "      <td>2005-11-01</td>\n",
       "      <td>93</td>\n",
       "    </tr>\n",
       "  </tbody>\n",
       "</table>\n",
       "</div>"
      ],
      "text/plain": [
       "   book_id  author_id         title  num_pages publication_date  publisher_id\n",
       "0        1        546  'Salem's Lot        594       2005-11-01            93"
      ]
     },
     "execution_count": 4,
     "metadata": {},
     "output_type": "execute_result"
    }
   ],
   "source": [
    "q = '''SELECT *  FROM books LIMIT 1'''\n",
    "pd.io.sql.read_sql(q, con = engine)"
   ]
  },
  {
   "cell_type": "code",
   "execution_count": 5,
   "metadata": {},
   "outputs": [
    {
     "data": {
      "text/html": [
       "<div>\n",
       "<style scoped>\n",
       "    .dataframe tbody tr th:only-of-type {\n",
       "        vertical-align: middle;\n",
       "    }\n",
       "\n",
       "    .dataframe tbody tr th {\n",
       "        vertical-align: top;\n",
       "    }\n",
       "\n",
       "    .dataframe thead th {\n",
       "        text-align: right;\n",
       "    }\n",
       "</style>\n",
       "<table border=\"1\" class=\"dataframe\">\n",
       "  <thead>\n",
       "    <tr style=\"text-align: right;\">\n",
       "      <th></th>\n",
       "      <th>author_id</th>\n",
       "      <th>author</th>\n",
       "    </tr>\n",
       "  </thead>\n",
       "  <tbody>\n",
       "    <tr>\n",
       "      <td>0</td>\n",
       "      <td>1</td>\n",
       "      <td>A.S. Byatt</td>\n",
       "    </tr>\n",
       "  </tbody>\n",
       "</table>\n",
       "</div>"
      ],
      "text/plain": [
       "   author_id      author\n",
       "0          1  A.S. Byatt"
      ]
     },
     "execution_count": 5,
     "metadata": {},
     "output_type": "execute_result"
    }
   ],
   "source": [
    "q = '''SELECT *  FROM authors LIMIT 1'''\n",
    "pd.io.sql.read_sql(q, con = engine)"
   ]
  },
  {
   "cell_type": "code",
   "execution_count": 6,
   "metadata": {},
   "outputs": [
    {
     "data": {
      "text/html": [
       "<div>\n",
       "<style scoped>\n",
       "    .dataframe tbody tr th:only-of-type {\n",
       "        vertical-align: middle;\n",
       "    }\n",
       "\n",
       "    .dataframe tbody tr th {\n",
       "        vertical-align: top;\n",
       "    }\n",
       "\n",
       "    .dataframe thead th {\n",
       "        text-align: right;\n",
       "    }\n",
       "</style>\n",
       "<table border=\"1\" class=\"dataframe\">\n",
       "  <thead>\n",
       "    <tr style=\"text-align: right;\">\n",
       "      <th></th>\n",
       "      <th>publisher_id</th>\n",
       "      <th>publisher</th>\n",
       "    </tr>\n",
       "  </thead>\n",
       "  <tbody>\n",
       "    <tr>\n",
       "      <td>0</td>\n",
       "      <td>1</td>\n",
       "      <td>Ace</td>\n",
       "    </tr>\n",
       "  </tbody>\n",
       "</table>\n",
       "</div>"
      ],
      "text/plain": [
       "   publisher_id publisher\n",
       "0             1       Ace"
      ]
     },
     "execution_count": 6,
     "metadata": {},
     "output_type": "execute_result"
    }
   ],
   "source": [
    "q = '''SELECT *  FROM publishers LIMIT 1'''\n",
    "pd.io.sql.read_sql(q, con = engine)"
   ]
  },
  {
   "cell_type": "code",
   "execution_count": 7,
   "metadata": {},
   "outputs": [
    {
     "data": {
      "text/html": [
       "<div>\n",
       "<style scoped>\n",
       "    .dataframe tbody tr th:only-of-type {\n",
       "        vertical-align: middle;\n",
       "    }\n",
       "\n",
       "    .dataframe tbody tr th {\n",
       "        vertical-align: top;\n",
       "    }\n",
       "\n",
       "    .dataframe thead th {\n",
       "        text-align: right;\n",
       "    }\n",
       "</style>\n",
       "<table border=\"1\" class=\"dataframe\">\n",
       "  <thead>\n",
       "    <tr style=\"text-align: right;\">\n",
       "      <th></th>\n",
       "      <th>rating_id</th>\n",
       "      <th>book_id</th>\n",
       "      <th>username</th>\n",
       "      <th>rating</th>\n",
       "    </tr>\n",
       "  </thead>\n",
       "  <tbody>\n",
       "    <tr>\n",
       "      <td>0</td>\n",
       "      <td>1</td>\n",
       "      <td>1</td>\n",
       "      <td>ryanfranco</td>\n",
       "      <td>4</td>\n",
       "    </tr>\n",
       "  </tbody>\n",
       "</table>\n",
       "</div>"
      ],
      "text/plain": [
       "   rating_id  book_id    username  rating\n",
       "0          1        1  ryanfranco       4"
      ]
     },
     "execution_count": 7,
     "metadata": {},
     "output_type": "execute_result"
    }
   ],
   "source": [
    "q = '''SELECT *  FROM ratings LIMIT 1'''\n",
    "pd.io.sql.read_sql(q, con = engine)"
   ]
  },
  {
   "cell_type": "code",
   "execution_count": 8,
   "metadata": {},
   "outputs": [
    {
     "data": {
      "text/html": [
       "<div>\n",
       "<style scoped>\n",
       "    .dataframe tbody tr th:only-of-type {\n",
       "        vertical-align: middle;\n",
       "    }\n",
       "\n",
       "    .dataframe tbody tr th {\n",
       "        vertical-align: top;\n",
       "    }\n",
       "\n",
       "    .dataframe thead th {\n",
       "        text-align: right;\n",
       "    }\n",
       "</style>\n",
       "<table border=\"1\" class=\"dataframe\">\n",
       "  <thead>\n",
       "    <tr style=\"text-align: right;\">\n",
       "      <th></th>\n",
       "      <th>review_id</th>\n",
       "      <th>book_id</th>\n",
       "      <th>username</th>\n",
       "      <th>text</th>\n",
       "    </tr>\n",
       "  </thead>\n",
       "  <tbody>\n",
       "    <tr>\n",
       "      <td>0</td>\n",
       "      <td>1</td>\n",
       "      <td>1</td>\n",
       "      <td>brandtandrea</td>\n",
       "      <td>Mention society tell send professor analysis. ...</td>\n",
       "    </tr>\n",
       "  </tbody>\n",
       "</table>\n",
       "</div>"
      ],
      "text/plain": [
       "   review_id  book_id      username  \\\n",
       "0          1        1  brandtandrea   \n",
       "\n",
       "                                                text  \n",
       "0  Mention society tell send professor analysis. ...  "
      ]
     },
     "execution_count": 8,
     "metadata": {},
     "output_type": "execute_result"
    }
   ],
   "source": [
    "q = '''SELECT *  FROM reviews LIMIT 1'''\n",
    "pd.io.sql.read_sql(q, con = engine)"
   ]
  },
  {
   "cell_type": "markdown",
   "metadata": {},
   "source": [
    "<div class=\"alert alert-block alert-warning\">\n",
    "<b>Комментарии от ревьюера:</b>\n",
    "\n",
    "Здесь всё хорошо. Ты корректно выгрузил данные и посмотрел их содержимое. Можно было бы вывести еще информацию с помощью info(). Так у нас будет информация хотя бы о размерности датасетов\n",
    "</div>"
   ]
  },
  {
   "cell_type": "markdown",
   "metadata": {},
   "source": [
    "**4. Ответы на вопросы исследования**"
   ]
  },
  {
   "cell_type": "markdown",
   "metadata": {},
   "source": [
    "**Сколько книг вышло после 1 января 2000 года**"
   ]
  },
  {
   "cell_type": "code",
   "execution_count": 9,
   "metadata": {},
   "outputs": [
    {
     "data": {
      "text/html": [
       "<div>\n",
       "<style scoped>\n",
       "    .dataframe tbody tr th:only-of-type {\n",
       "        vertical-align: middle;\n",
       "    }\n",
       "\n",
       "    .dataframe tbody tr th {\n",
       "        vertical-align: top;\n",
       "    }\n",
       "\n",
       "    .dataframe thead th {\n",
       "        text-align: right;\n",
       "    }\n",
       "</style>\n",
       "<table border=\"1\" class=\"dataframe\">\n",
       "  <thead>\n",
       "    <tr style=\"text-align: right;\">\n",
       "      <th></th>\n",
       "      <th>count_after_010120</th>\n",
       "    </tr>\n",
       "  </thead>\n",
       "  <tbody>\n",
       "    <tr>\n",
       "      <td>0</td>\n",
       "      <td>819</td>\n",
       "    </tr>\n",
       "  </tbody>\n",
       "</table>\n",
       "</div>"
      ],
      "text/plain": [
       "   count_after_010120\n",
       "0                 819"
      ]
     },
     "execution_count": 9,
     "metadata": {},
     "output_type": "execute_result"
    }
   ],
   "source": [
    "q = '''\n",
    "       SELECT \n",
    "            COUNT(book_id) AS count_after_010120\n",
    "       FROM \n",
    "            books\n",
    "       WHERE \n",
    "            publication_date :: date > '2000-01-01'\n",
    "    '''\n",
    "pd.io.sql.read_sql(q, con = engine)"
   ]
  },
  {
   "cell_type": "markdown",
   "metadata": {},
   "source": [
    "После начала нового тысячелетия вышла не тысяча, но 819 новых книг."
   ]
  },
  {
   "cell_type": "markdown",
   "metadata": {},
   "source": [
    "**Для каждой книги посчитайте количество обзоров и среднюю оценку**"
   ]
  },
  {
   "cell_type": "code",
   "execution_count": 10,
   "metadata": {},
   "outputs": [
    {
     "data": {
      "text/html": [
       "<div>\n",
       "<style scoped>\n",
       "    .dataframe tbody tr th:only-of-type {\n",
       "        vertical-align: middle;\n",
       "    }\n",
       "\n",
       "    .dataframe tbody tr th {\n",
       "        vertical-align: top;\n",
       "    }\n",
       "\n",
       "    .dataframe thead th {\n",
       "        text-align: right;\n",
       "    }\n",
       "</style>\n",
       "<table border=\"1\" class=\"dataframe\">\n",
       "  <thead>\n",
       "    <tr style=\"text-align: right;\">\n",
       "      <th></th>\n",
       "      <th>book_id</th>\n",
       "      <th>title</th>\n",
       "      <th>author_id</th>\n",
       "      <th>count_reviews</th>\n",
       "      <th>mean_rating</th>\n",
       "    </tr>\n",
       "  </thead>\n",
       "  <tbody>\n",
       "    <tr>\n",
       "      <td>0</td>\n",
       "      <td>1</td>\n",
       "      <td>'Salem's Lot</td>\n",
       "      <td>546</td>\n",
       "      <td>2</td>\n",
       "      <td>3.666667</td>\n",
       "    </tr>\n",
       "    <tr>\n",
       "      <td>1</td>\n",
       "      <td>2</td>\n",
       "      <td>1 000 Places to See Before You Die</td>\n",
       "      <td>465</td>\n",
       "      <td>1</td>\n",
       "      <td>2.500000</td>\n",
       "    </tr>\n",
       "    <tr>\n",
       "      <td>2</td>\n",
       "      <td>3</td>\n",
       "      <td>13 Little Blue Envelopes (Little Blue Envelope...</td>\n",
       "      <td>407</td>\n",
       "      <td>3</td>\n",
       "      <td>4.666667</td>\n",
       "    </tr>\n",
       "    <tr>\n",
       "      <td>3</td>\n",
       "      <td>4</td>\n",
       "      <td>1491: New Revelations of the Americas Before C...</td>\n",
       "      <td>82</td>\n",
       "      <td>2</td>\n",
       "      <td>4.500000</td>\n",
       "    </tr>\n",
       "    <tr>\n",
       "      <td>4</td>\n",
       "      <td>5</td>\n",
       "      <td>1776</td>\n",
       "      <td>125</td>\n",
       "      <td>4</td>\n",
       "      <td>4.000000</td>\n",
       "    </tr>\n",
       "    <tr>\n",
       "      <td>...</td>\n",
       "      <td>...</td>\n",
       "      <td>...</td>\n",
       "      <td>...</td>\n",
       "      <td>...</td>\n",
       "      <td>...</td>\n",
       "    </tr>\n",
       "    <tr>\n",
       "      <td>989</td>\n",
       "      <td>996</td>\n",
       "      <td>Wyrd Sisters (Discworld  #6; Witches #2)</td>\n",
       "      <td>571</td>\n",
       "      <td>3</td>\n",
       "      <td>3.666667</td>\n",
       "    </tr>\n",
       "    <tr>\n",
       "      <td>990</td>\n",
       "      <td>997</td>\n",
       "      <td>Xenocide (Ender's Saga  #3)</td>\n",
       "      <td>454</td>\n",
       "      <td>3</td>\n",
       "      <td>3.400000</td>\n",
       "    </tr>\n",
       "    <tr>\n",
       "      <td>991</td>\n",
       "      <td>998</td>\n",
       "      <td>Year of Wonders</td>\n",
       "      <td>201</td>\n",
       "      <td>4</td>\n",
       "      <td>3.200000</td>\n",
       "    </tr>\n",
       "    <tr>\n",
       "      <td>992</td>\n",
       "      <td>999</td>\n",
       "      <td>You Suck (A Love Story  #2)</td>\n",
       "      <td>94</td>\n",
       "      <td>2</td>\n",
       "      <td>4.500000</td>\n",
       "    </tr>\n",
       "    <tr>\n",
       "      <td>993</td>\n",
       "      <td>1000</td>\n",
       "      <td>Zen and the Art of Motorcycle Maintenance: An ...</td>\n",
       "      <td>509</td>\n",
       "      <td>4</td>\n",
       "      <td>3.833333</td>\n",
       "    </tr>\n",
       "  </tbody>\n",
       "</table>\n",
       "<p>994 rows × 5 columns</p>\n",
       "</div>"
      ],
      "text/plain": [
       "     book_id                                              title  author_id  \\\n",
       "0          1                                       'Salem's Lot        546   \n",
       "1          2                 1 000 Places to See Before You Die        465   \n",
       "2          3  13 Little Blue Envelopes (Little Blue Envelope...        407   \n",
       "3          4  1491: New Revelations of the Americas Before C...         82   \n",
       "4          5                                               1776        125   \n",
       "..       ...                                                ...        ...   \n",
       "989      996           Wyrd Sisters (Discworld  #6; Witches #2)        571   \n",
       "990      997                        Xenocide (Ender's Saga  #3)        454   \n",
       "991      998                                    Year of Wonders        201   \n",
       "992      999                        You Suck (A Love Story  #2)         94   \n",
       "993     1000  Zen and the Art of Motorcycle Maintenance: An ...        509   \n",
       "\n",
       "     count_reviews  mean_rating  \n",
       "0                2     3.666667  \n",
       "1                1     2.500000  \n",
       "2                3     4.666667  \n",
       "3                2     4.500000  \n",
       "4                4     4.000000  \n",
       "..             ...          ...  \n",
       "989              3     3.666667  \n",
       "990              3     3.400000  \n",
       "991              4     3.200000  \n",
       "992              2     4.500000  \n",
       "993              4     3.833333  \n",
       "\n",
       "[994 rows x 5 columns]"
      ]
     },
     "execution_count": 10,
     "metadata": {},
     "output_type": "execute_result"
    }
   ],
   "source": [
    "q = '''SELECT \n",
    "            books.book_id,\n",
    "            books.title,\n",
    "            books.author_id,\n",
    "            COUNT(DISTINCT review_id) AS count_reviews,\n",
    "            AVG(rating) AS mean_rating\n",
    "       FROM \n",
    "            books \n",
    "            JOIN reviews ON books.book_id=reviews.book_id\n",
    "            JOIN ratings ON books.book_id=ratings.book_id\n",
    "       GROUP BY\n",
    "            books.book_id'''\n",
    "\n",
    "pd.io.sql.read_sql(q, con = engine)"
   ]
  },
  {
   "cell_type": "markdown",
   "metadata": {},
   "source": [
    "На основании запроса сформирована таблица, содержащая информацию о количестве обзоров и средней оценке каждой книге."
   ]
  },
  {
   "cell_type": "markdown",
   "metadata": {},
   "source": [
    "**Определите издательство, которое выпустило наибольшее число книг толще 50 страниц**"
   ]
  },
  {
   "cell_type": "code",
   "execution_count": 11,
   "metadata": {},
   "outputs": [
    {
     "data": {
      "text/html": [
       "<div>\n",
       "<style scoped>\n",
       "    .dataframe tbody tr th:only-of-type {\n",
       "        vertical-align: middle;\n",
       "    }\n",
       "\n",
       "    .dataframe tbody tr th {\n",
       "        vertical-align: top;\n",
       "    }\n",
       "\n",
       "    .dataframe thead th {\n",
       "        text-align: right;\n",
       "    }\n",
       "</style>\n",
       "<table border=\"1\" class=\"dataframe\">\n",
       "  <thead>\n",
       "    <tr style=\"text-align: right;\">\n",
       "      <th></th>\n",
       "      <th>publisher_id</th>\n",
       "      <th>publisher</th>\n",
       "    </tr>\n",
       "  </thead>\n",
       "  <tbody>\n",
       "    <tr>\n",
       "      <td>0</td>\n",
       "      <td>212</td>\n",
       "      <td>Penguin Books</td>\n",
       "    </tr>\n",
       "  </tbody>\n",
       "</table>\n",
       "</div>"
      ],
      "text/plain": [
       "   publisher_id      publisher\n",
       "0           212  Penguin Books"
      ]
     },
     "execution_count": 11,
     "metadata": {},
     "output_type": "execute_result"
    }
   ],
   "source": [
    "# используются два подзапроса - запрос ex для расчёта количества книг \n",
    "# с числом страниц более 50 по издательствам и запрос без алиаса с выборкой\n",
    "# максимального значения рассчитаного количества книг\n",
    "q = '''\n",
    "       SELECT\n",
    "           ex.publisher_id,\n",
    "           ex.publisher \n",
    "       FROM\n",
    "            (SELECT\n",
    "                books.publisher_id,\n",
    "                publisher,\n",
    "                COUNT(books.book_id) cb\n",
    "            FROM \n",
    "                books \n",
    "                JOIN publishers ON books.publisher_id=publishers.publisher_id\n",
    "            WHERE\n",
    "                books.num_pages > 50\n",
    "            GROUP BY \n",
    "                books.publisher_id,\n",
    "                publisher) ex\n",
    "        WHERE  cb =\n",
    "            (SELECT\n",
    "                DISTINCT MAX(COUNT(books.book_id)) OVER()\n",
    "             FROM\n",
    "                books \n",
    "                JOIN publishers ON books.publisher_id=publishers.publisher_id\n",
    "             WHERE\n",
    "                books.num_pages > 50\n",
    "             GROUP BY\n",
    "                books.publisher_id,\n",
    "                publisher)            \n",
    "      '''\n",
    "\n",
    "pd.io.sql.read_sql(q, con = engine)"
   ]
  },
  {
   "cell_type": "markdown",
   "metadata": {},
   "source": [
    "Самым активным в части выпуска книг стало издательство, основанное пингвинами из мультфильма \"Мадагаскар\". Им помогла военная дисциплина."
   ]
  },
  {
   "cell_type": "markdown",
   "metadata": {},
   "source": [
    "**Определите автора с самой высокой средней оценкой книг — учитывайте только книги с 50 и более оценками**"
   ]
  },
  {
   "cell_type": "markdown",
   "metadata": {},
   "source": [
    "Определён автор с самой высокой средней оценкой книг. Ими стали в соавторстве Дж. Роулинг и Мэри Гранпрэ за повествование о Гарри Поттере для американских читателей."
   ]
  },
  {
   "cell_type": "code",
   "execution_count": 13,
   "metadata": {},
   "outputs": [
    {
     "data": {
      "text/html": [
       "<div>\n",
       "<style scoped>\n",
       "    .dataframe tbody tr th:only-of-type {\n",
       "        vertical-align: middle;\n",
       "    }\n",
       "\n",
       "    .dataframe tbody tr th {\n",
       "        vertical-align: top;\n",
       "    }\n",
       "\n",
       "    .dataframe thead th {\n",
       "        text-align: right;\n",
       "    }\n",
       "</style>\n",
       "<table border=\"1\" class=\"dataframe\">\n",
       "  <thead>\n",
       "    <tr style=\"text-align: right;\">\n",
       "      <th></th>\n",
       "      <th>author_id</th>\n",
       "      <th>author</th>\n",
       "      <th>avg_raiting</th>\n",
       "    </tr>\n",
       "  </thead>\n",
       "  <tbody>\n",
       "    <tr>\n",
       "      <td>0</td>\n",
       "      <td>236</td>\n",
       "      <td>J.K. Rowling/Mary GrandPré</td>\n",
       "      <td>4.283844</td>\n",
       "    </tr>\n",
       "    <tr>\n",
       "      <td>1</td>\n",
       "      <td>402</td>\n",
       "      <td>Markus Zusak/Cao Xuân Việt Khương</td>\n",
       "      <td>4.264151</td>\n",
       "    </tr>\n",
       "    <tr>\n",
       "      <td>2</td>\n",
       "      <td>240</td>\n",
       "      <td>J.R.R. Tolkien</td>\n",
       "      <td>4.258446</td>\n",
       "    </tr>\n",
       "    <tr>\n",
       "      <td>3</td>\n",
       "      <td>376</td>\n",
       "      <td>Louisa May Alcott</td>\n",
       "      <td>4.192308</td>\n",
       "    </tr>\n",
       "    <tr>\n",
       "      <td>4</td>\n",
       "      <td>498</td>\n",
       "      <td>Rick Riordan</td>\n",
       "      <td>4.080645</td>\n",
       "    </tr>\n",
       "    <tr>\n",
       "      <td>5</td>\n",
       "      <td>621</td>\n",
       "      <td>William Golding</td>\n",
       "      <td>3.901408</td>\n",
       "    </tr>\n",
       "    <tr>\n",
       "      <td>6</td>\n",
       "      <td>235</td>\n",
       "      <td>J.D. Salinger</td>\n",
       "      <td>3.825581</td>\n",
       "    </tr>\n",
       "    <tr>\n",
       "      <td>7</td>\n",
       "      <td>469</td>\n",
       "      <td>Paulo Coelho/Alan R. Clarke/Özdemir İnce</td>\n",
       "      <td>3.789474</td>\n",
       "    </tr>\n",
       "    <tr>\n",
       "      <td>8</td>\n",
       "      <td>630</td>\n",
       "      <td>William Shakespeare/Paul Werstine/Barbara A. M...</td>\n",
       "      <td>3.787879</td>\n",
       "    </tr>\n",
       "    <tr>\n",
       "      <td>9</td>\n",
       "      <td>106</td>\n",
       "      <td>Dan Brown</td>\n",
       "      <td>3.754540</td>\n",
       "    </tr>\n",
       "  </tbody>\n",
       "</table>\n",
       "</div>"
      ],
      "text/plain": [
       "   author_id                                             author  avg_raiting\n",
       "0        236                         J.K. Rowling/Mary GrandPré     4.283844\n",
       "1        402                  Markus Zusak/Cao Xuân Việt Khương     4.264151\n",
       "2        240                                     J.R.R. Tolkien     4.258446\n",
       "3        376                                  Louisa May Alcott     4.192308\n",
       "4        498                                       Rick Riordan     4.080645\n",
       "5        621                                    William Golding     3.901408\n",
       "6        235                                      J.D. Salinger     3.825581\n",
       "7        469           Paulo Coelho/Alan R. Clarke/Özdemir İnce     3.789474\n",
       "8        630  William Shakespeare/Paul Werstine/Barbara A. M...     3.787879\n",
       "9        106                                          Dan Brown     3.754540"
      ]
     },
     "execution_count": 13,
     "metadata": {},
     "output_type": "execute_result"
    }
   ],
   "source": [
    "q = '''SELECT\n",
    "           ex.author_id,\n",
    "           ex.author,\n",
    "           AVG(ex.ar) avg_raiting\n",
    "       FROM\n",
    "            (SELECT\n",
    "                books.book_id,\n",
    "                authors.author_id,\n",
    "                authors.author,\n",
    "                COUNT(ratings.book_id) cr,\n",
    "                AVG(ratings.rating) ar\n",
    "            FROM \n",
    "                books \n",
    "                JOIN authors ON books.author_id=authors.author_id\n",
    "                JOIN ratings ON ratings.book_id=books.book_id\n",
    "            GROUP BY\n",
    "                books.book_id,\n",
    "                authors.author_id,\n",
    "                authors.author\n",
    "            HAVING\n",
    "                COUNT(ratings.book_id) >= 50\n",
    "            ORDER BY\n",
    "                ar DESC\n",
    "                ) ex\n",
    "        GROUP BY\n",
    "            ex.author_id,\n",
    "            ex.author\n",
    "        ORDER BY\n",
    "            avg_raiting DESC\n",
    "        LIMIT\n",
    "            10\n",
    "      '''\n",
    "\n",
    "pd.io.sql.read_sql(q, con = engine)"
   ]
  },
  {
   "cell_type": "markdown",
   "metadata": {},
   "source": [
    "**Посчитайте среднее количество обзоров от пользователей, которые поставили больше 50 оценок.**"
   ]
  },
  {
   "cell_type": "code",
   "execution_count": 14,
   "metadata": {},
   "outputs": [
    {
     "data": {
      "text/html": [
       "<div>\n",
       "<style scoped>\n",
       "    .dataframe tbody tr th:only-of-type {\n",
       "        vertical-align: middle;\n",
       "    }\n",
       "\n",
       "    .dataframe tbody tr th {\n",
       "        vertical-align: top;\n",
       "    }\n",
       "\n",
       "    .dataframe thead th {\n",
       "        text-align: right;\n",
       "    }\n",
       "</style>\n",
       "<table border=\"1\" class=\"dataframe\">\n",
       "  <thead>\n",
       "    <tr style=\"text-align: right;\">\n",
       "      <th></th>\n",
       "      <th>avg_reviews</th>\n",
       "    </tr>\n",
       "  </thead>\n",
       "  <tbody>\n",
       "    <tr>\n",
       "      <td>0</td>\n",
       "      <td>24.333333</td>\n",
       "    </tr>\n",
       "  </tbody>\n",
       "</table>\n",
       "</div>"
      ],
      "text/plain": [
       "   avg_reviews\n",
       "0    24.333333"
      ]
     },
     "execution_count": 14,
     "metadata": {},
     "output_type": "execute_result"
    }
   ],
   "source": [
    "q = '''\n",
    "       SELECT \n",
    "          DISTINCT AVG(COUNT(review_id)) OVER() avg_reviews\n",
    "       FROM\n",
    "           (SELECT            \n",
    "               username,\n",
    "               COUNT(rating_id) ratings\n",
    "           FROM\n",
    "               ratings\n",
    "           GROUP BY\n",
    "                username\n",
    "           HAVING\n",
    "               COUNT(rating_id) > 50) ex\n",
    "            JOIN reviews ON  reviews.username = ex.username\n",
    "        GROUP BY\n",
    "              ex.username\n",
    "              \n",
    "    '''     \n",
    "    \n",
    "pd.io.sql.read_sql(q, con = engine)"
   ]
  },
  {
   "cell_type": "markdown",
   "metadata": {},
   "source": [
    "В среднем активные пользователи сформировали по 24,3 обзора."
   ]
  }
 ],
 "metadata": {
  "kernelspec": {
   "display_name": "Python 3",
   "language": "python",
   "name": "python3"
  },
  "language_info": {
   "codemirror_mode": {
    "name": "ipython",
    "version": 3
   },
   "file_extension": ".py",
   "mimetype": "text/x-python",
   "name": "python",
   "nbconvert_exporter": "python",
   "pygments_lexer": "ipython3",
   "version": "3.7.6"
  }
 },
 "nbformat": 4,
 "nbformat_minor": 4
}
