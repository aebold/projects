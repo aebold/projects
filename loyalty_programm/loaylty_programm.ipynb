{
 "cells": [
  {
   "cell_type": "markdown",
   "metadata": {},
   "source": [
    "# Анализ программы лояльности"
   ]
  },
  {
   "cell_type": "markdown",
   "metadata": {},
   "source": [
    "## Оглавление:\n",
    "* [1. Введение. Цель проекта](#1-bullet)\n",
    "\n",
    "\n",
    "* [2. Предобработка данных](#2-bullet)\n",
    "    * [2.1 Загрузка данных](#2.1-bullet)\n",
    "    * [2.2 Обработка дубликатов](#2.2-bullet)\n",
    "    * [2.3 Обработка пропущенных и отрицательных значений](#2.3-bullet)\n",
    "    * [2.4 Изменение типов данных](#2.4-bullet)\n",
    "    * [2.5 Вывод по разделу](#2.5-bullet)\n",
    "    \n",
    "\n",
    "* [3. Исследовательский анализ данных](#3-bullet)\n",
    "    * [3.1 Объединение данных о покупках и стоимости товаров](#3.1-bullet)\n",
    "    * [3.2 Группировка данных по клиентам, магазинам и товарам](#3.2-bullet)\n",
    "    * [3.3 Оценка распределений и корреляций](#3.3-bullet)\n",
    "    * [3.4 Обработка аномальных значений](#3.4-bullet)\n",
    "   \n",
    "   \n",
    "* [4. Анализ программы лояльности](#4-bullet)\n",
    "    * [4.1 Оценка выручки по группам клиентов](#4.1-bullet)\n",
    "    * [4.2 Оценка среднего чека по группам клиентов](#4.2-bullet)\n",
    "    * [4.3 Оценка количества покупок по группам клиентов](#4.3-bullet)\n",
    "    * [4.4 Расчёт показателей статистической значимости и проверка гипотез](#4.4-bullet)\n",
    "        * [4.4.1 Средний чек](#4.4.2-bullet)\n",
    "        * [4.4.2 Количество покупок](#4.4.3-bullet)\n",
    "     * [4.5 TOP-5 товаров каждой клиентской группы](#4.5-bullet)\n",
    "     * [4.6 Распределение выручки между  магазинами ](#4.6-bullet)\n",
    " \n",
    " \n",
    "* [5. Выводы и рекомендации](#5-bullet)\n",
    "\n",
    "\n",
    "* [6. Приложения: презентация](https://drive.google.com/file/d/1l8jJhymtqm1ar_mFW_sJaZ6g77H72IYq/view?usp=sharing)"
   ]
  },
  {
   "cell_type": "markdown",
   "metadata": {},
   "source": [
    "## 1. Введение. Цель проекта<a class=\"anchor\" id=\"1-bullet\"></a>"
   ]
  },
  {
   "cell_type": "markdown",
   "metadata": {},
   "source": [
    "Исследование проводится для ответа на вопрос эффективности программы лояльности магазина строительных материалов «Строили, строили и наконец построили». \n",
    "\n",
    "Все покупатели могут получить доступ в магазин с использованием персональных карт и за 200 рублей в месяц  могут стать участниками программы лояльности. В программу включены скидки, специальные предложения, подарки.\n",
    "\n",
    "Метриками эффективности определены:\n",
    "- выручка;\n",
    "- средний чек;\n",
    "- количество покупок.\n",
    "\n",
    "Будет проведён сравнительный анализ данных метрик между клиентами, не участвующими в программе лояльности (группа А) и клиентами - участниками программы (группа В)."
   ]
  },
  {
   "cell_type": "markdown",
   "metadata": {},
   "source": [
    "## 2. Предобработка данных<a class=\"anchor\" id=\"2-bullet\"></a>"
   ]
  },
  {
   "cell_type": "markdown",
   "metadata": {},
   "source": [
    "###  2.1 Загрузка данных<a class=\"anchor\" id=\"2.1-bullet\"></a>"
   ]
  },
  {
   "cell_type": "code",
   "execution_count": 1,
   "metadata": {},
   "outputs": [],
   "source": [
    "# для анализа будут использоваться python - библиотеки: Pandas, Matplotlib, NumPy, Datetime, Scipy.stats\n",
    "import pandas as pd\n",
    "import matplotlib.pyplot as plt\n",
    "from pandas.plotting import table\n",
    "import seaborn as sns\n",
    "import numpy as np\n",
    "import datetime as dt\n",
    "import scipy.stats as stats\n",
    "\n",
    "# вывод предупреждений подавлен\n",
    "import warnings\n",
    "warnings.filterwarnings(\"ignore\")"
   ]
  },
  {
   "cell_type": "code",
   "execution_count": 2,
   "metadata": {},
   "outputs": [],
   "source": [
    "# предустановка общих параметров графиков\n",
    "plt.style.use('fivethirtyeight')\n",
    "plt.rcParams.update({'font.size': 12})\n",
    "plt.rcParams['figure.figsize'] = (15, 5)"
   ]
  },
  {
   "cell_type": "code",
   "execution_count": 3,
   "metadata": {},
   "outputs": [],
   "source": [
    "# импорт файлов\n",
    "pur = pd.read_csv('/datasets/retail_dataset.csv')\n",
    "cod = pd.read_csv('/datasets/product_codes.csv')"
   ]
  },
  {
   "cell_type": "code",
   "execution_count": 4,
   "metadata": {},
   "outputs": [],
   "source": [
    "#функция агрегирования нужной информации о датасете. Реализовано с целью улучшения визуализации информации.\n",
    "def intro_df(df_name):\n",
    "\n",
    "    entries_count = pd.DataFrame(df_name.nunique())\n",
    "    entries_count.columns = ['values_counts']\n",
    "\n",
    "    columns_types = pd.DataFrame(df_name.dtypes)\n",
    "    columns_types.columns = ['dtypes']\n",
    "    \n",
    "    entries_count_isnull = pd.DataFrame(df_name.isnull().sum())\n",
    "    entries_count_isnull.columns = ['isnull_counts']\n",
    "    \n",
    "    \n",
    "    entries_max = pd.DataFrame(df_name.max())\n",
    "    entries_max.columns = ['max']\n",
    "    \n",
    "    \n",
    "    entries_min = pd.DataFrame(df_name.min())\n",
    "    entries_min.columns = ['min']\n",
    "    \n",
    "    df_name_intro_info = entries_count.join(columns_types)\\\n",
    "                                      .join(entries_count_isnull)\\\n",
    "                                      .join(entries_max)\\\n",
    "                                      .join(entries_min)\n",
    "    \n",
    "    df_name.columns = df_name.columns.str.lower().str.replace(' ','_')\n",
    "\n",
    "    print('Параметры таблицы , (строк, полей):', df_name.shape)\n",
    "    print('Количество дубликатов:', df_name.duplicated().sum())\n",
    "    display(df_name_intro_info.transpose())\n",
    "    print('Первые 3 строки таблицы:')\n",
    "    display(df_name.head(3))"
   ]
  },
  {
   "cell_type": "markdown",
   "metadata": {},
   "source": [
    "Файл retail_dataset.csv:\n",
    "\n",
    "- `purchaseId` — id чека;\n",
    "- `item_ID` — id товара;\n",
    "- `purchasedate` — дата покупки;\n",
    "- `Quantity` — количество товара;\n",
    "- `CustomerID` — id покупателя;\n",
    "- `ShopID` — id магазина;\n",
    "- `loyalty_program` — участвует ли покупатель в программе лояльности;"
   ]
  },
  {
   "cell_type": "code",
   "execution_count": 5,
   "metadata": {},
   "outputs": [
    {
     "name": "stdout",
     "output_type": "stream",
     "text": [
      "Параметры таблицы , (строк, полей): (105335, 7)\n",
      "Количество дубликатов: 1033\n"
     ]
    },
    {
     "data": {
      "text/html": [
       "<div>\n",
       "<style scoped>\n",
       "    .dataframe tbody tr th:only-of-type {\n",
       "        vertical-align: middle;\n",
       "    }\n",
       "\n",
       "    .dataframe tbody tr th {\n",
       "        vertical-align: top;\n",
       "    }\n",
       "\n",
       "    .dataframe thead th {\n",
       "        text-align: right;\n",
       "    }\n",
       "</style>\n",
       "<table border=\"1\" class=\"dataframe\">\n",
       "  <thead>\n",
       "    <tr style=\"text-align: right;\">\n",
       "      <th></th>\n",
       "      <th>purchaseid</th>\n",
       "      <th>item_ID</th>\n",
       "      <th>Quantity</th>\n",
       "      <th>purchasedate</th>\n",
       "      <th>CustomerID</th>\n",
       "      <th>ShopID</th>\n",
       "      <th>loyalty_program</th>\n",
       "    </tr>\n",
       "  </thead>\n",
       "  <tbody>\n",
       "    <tr>\n",
       "      <td>values_counts</td>\n",
       "      <td>4894</td>\n",
       "      <td>3159</td>\n",
       "      <td>301</td>\n",
       "      <td>4430</td>\n",
       "      <td>1749</td>\n",
       "      <td>31</td>\n",
       "      <td>2</td>\n",
       "    </tr>\n",
       "    <tr>\n",
       "      <td>dtypes</td>\n",
       "      <td>object</td>\n",
       "      <td>object</td>\n",
       "      <td>int64</td>\n",
       "      <td>object</td>\n",
       "      <td>float64</td>\n",
       "      <td>object</td>\n",
       "      <td>float64</td>\n",
       "    </tr>\n",
       "    <tr>\n",
       "      <td>isnull_counts</td>\n",
       "      <td>0</td>\n",
       "      <td>0</td>\n",
       "      <td>0</td>\n",
       "      <td>0</td>\n",
       "      <td>36210</td>\n",
       "      <td>0</td>\n",
       "      <td>0</td>\n",
       "    </tr>\n",
       "    <tr>\n",
       "      <td>max</td>\n",
       "      <td>C545189</td>\n",
       "      <td>m</td>\n",
       "      <td>74214</td>\n",
       "      <td>2017-02-28 17:04:00</td>\n",
       "      <td>23962</td>\n",
       "      <td>Shop 9</td>\n",
       "      <td>1</td>\n",
       "    </tr>\n",
       "    <tr>\n",
       "      <td>min</td>\n",
       "      <td>536365</td>\n",
       "      <td>10002</td>\n",
       "      <td>-74216</td>\n",
       "      <td>2016-12-01 08:26:00</td>\n",
       "      <td>18025</td>\n",
       "      <td>Shop 0</td>\n",
       "      <td>0</td>\n",
       "    </tr>\n",
       "  </tbody>\n",
       "</table>\n",
       "</div>"
      ],
      "text/plain": [
       "              purchaseid item_ID Quantity         purchasedate CustomerID  \\\n",
       "values_counts       4894    3159      301                 4430       1749   \n",
       "dtypes            object  object    int64               object    float64   \n",
       "isnull_counts          0       0        0                    0      36210   \n",
       "max              C545189       m    74214  2017-02-28 17:04:00      23962   \n",
       "min               536365   10002   -74216  2016-12-01 08:26:00      18025   \n",
       "\n",
       "               ShopID loyalty_program  \n",
       "values_counts      31               2  \n",
       "dtypes         object         float64  \n",
       "isnull_counts       0               0  \n",
       "max            Shop 9               1  \n",
       "min            Shop 0               0  "
      ]
     },
     "metadata": {},
     "output_type": "display_data"
    },
    {
     "name": "stdout",
     "output_type": "stream",
     "text": [
      "Первые 3 строки таблицы:\n"
     ]
    },
    {
     "data": {
      "text/html": [
       "<div>\n",
       "<style scoped>\n",
       "    .dataframe tbody tr th:only-of-type {\n",
       "        vertical-align: middle;\n",
       "    }\n",
       "\n",
       "    .dataframe tbody tr th {\n",
       "        vertical-align: top;\n",
       "    }\n",
       "\n",
       "    .dataframe thead th {\n",
       "        text-align: right;\n",
       "    }\n",
       "</style>\n",
       "<table border=\"1\" class=\"dataframe\">\n",
       "  <thead>\n",
       "    <tr style=\"text-align: right;\">\n",
       "      <th></th>\n",
       "      <th>purchaseid</th>\n",
       "      <th>item_id</th>\n",
       "      <th>quantity</th>\n",
       "      <th>purchasedate</th>\n",
       "      <th>customerid</th>\n",
       "      <th>shopid</th>\n",
       "      <th>loyalty_program</th>\n",
       "    </tr>\n",
       "  </thead>\n",
       "  <tbody>\n",
       "    <tr>\n",
       "      <td>0</td>\n",
       "      <td>538280</td>\n",
       "      <td>21873</td>\n",
       "      <td>11</td>\n",
       "      <td>2016-12-10 12:50:00</td>\n",
       "      <td>18427.0</td>\n",
       "      <td>Shop 0</td>\n",
       "      <td>0.0</td>\n",
       "    </tr>\n",
       "    <tr>\n",
       "      <td>1</td>\n",
       "      <td>538862</td>\n",
       "      <td>22195</td>\n",
       "      <td>0</td>\n",
       "      <td>2016-12-14 14:11:00</td>\n",
       "      <td>22389.0</td>\n",
       "      <td>Shop 0</td>\n",
       "      <td>1.0</td>\n",
       "    </tr>\n",
       "    <tr>\n",
       "      <td>2</td>\n",
       "      <td>538855</td>\n",
       "      <td>21239</td>\n",
       "      <td>7</td>\n",
       "      <td>2016-12-14 13:50:00</td>\n",
       "      <td>22182.0</td>\n",
       "      <td>Shop 0</td>\n",
       "      <td>1.0</td>\n",
       "    </tr>\n",
       "  </tbody>\n",
       "</table>\n",
       "</div>"
      ],
      "text/plain": [
       "  purchaseid item_id  quantity         purchasedate  customerid  shopid  \\\n",
       "0     538280   21873        11  2016-12-10 12:50:00     18427.0  Shop 0   \n",
       "1     538862   22195         0  2016-12-14 14:11:00     22389.0  Shop 0   \n",
       "2     538855   21239         7  2016-12-14 13:50:00     22182.0  Shop 0   \n",
       "\n",
       "   loyalty_program  \n",
       "0              0.0  \n",
       "1              1.0  \n",
       "2              1.0  "
      ]
     },
     "metadata": {},
     "output_type": "display_data"
    }
   ],
   "source": [
    "intro_df(pur)"
   ]
  },
  {
   "cell_type": "markdown",
   "metadata": {},
   "source": [
    "Файл product_codes.csv:\n",
    "\n",
    "- `productID` — id товара;\n",
    "- `price_per_one` — стоимость одной единицы товара."
   ]
  },
  {
   "cell_type": "code",
   "execution_count": 6,
   "metadata": {},
   "outputs": [
    {
     "name": "stdout",
     "output_type": "stream",
     "text": [
      "Параметры таблицы , (строк, полей): (9969, 2)\n",
      "Количество дубликатов: 0\n"
     ]
    },
    {
     "data": {
      "text/html": [
       "<div>\n",
       "<style scoped>\n",
       "    .dataframe tbody tr th:only-of-type {\n",
       "        vertical-align: middle;\n",
       "    }\n",
       "\n",
       "    .dataframe tbody tr th {\n",
       "        vertical-align: top;\n",
       "    }\n",
       "\n",
       "    .dataframe thead th {\n",
       "        text-align: right;\n",
       "    }\n",
       "</style>\n",
       "<table border=\"1\" class=\"dataframe\">\n",
       "  <thead>\n",
       "    <tr style=\"text-align: right;\">\n",
       "      <th></th>\n",
       "      <th>productID</th>\n",
       "      <th>price_per_one</th>\n",
       "    </tr>\n",
       "  </thead>\n",
       "  <tbody>\n",
       "    <tr>\n",
       "      <td>values_counts</td>\n",
       "      <td>3159</td>\n",
       "      <td>586</td>\n",
       "    </tr>\n",
       "    <tr>\n",
       "      <td>dtypes</td>\n",
       "      <td>object</td>\n",
       "      <td>float64</td>\n",
       "    </tr>\n",
       "    <tr>\n",
       "      <td>isnull_counts</td>\n",
       "      <td>0</td>\n",
       "      <td>0</td>\n",
       "    </tr>\n",
       "    <tr>\n",
       "      <td>max</td>\n",
       "      <td>m</td>\n",
       "      <td>16888</td>\n",
       "    </tr>\n",
       "    <tr>\n",
       "      <td>min</td>\n",
       "      <td>10002</td>\n",
       "      <td>0</td>\n",
       "    </tr>\n",
       "  </tbody>\n",
       "</table>\n",
       "</div>"
      ],
      "text/plain": [
       "              productID price_per_one\n",
       "values_counts      3159           586\n",
       "dtypes           object       float64\n",
       "isnull_counts         0             0\n",
       "max                   m         16888\n",
       "min               10002             0"
      ]
     },
     "metadata": {},
     "output_type": "display_data"
    },
    {
     "name": "stdout",
     "output_type": "stream",
     "text": [
      "Первые 3 строки таблицы:\n"
     ]
    },
    {
     "data": {
      "text/html": [
       "<div>\n",
       "<style scoped>\n",
       "    .dataframe tbody tr th:only-of-type {\n",
       "        vertical-align: middle;\n",
       "    }\n",
       "\n",
       "    .dataframe tbody tr th {\n",
       "        vertical-align: top;\n",
       "    }\n",
       "\n",
       "    .dataframe thead th {\n",
       "        text-align: right;\n",
       "    }\n",
       "</style>\n",
       "<table border=\"1\" class=\"dataframe\">\n",
       "  <thead>\n",
       "    <tr style=\"text-align: right;\">\n",
       "      <th></th>\n",
       "      <th>productid</th>\n",
       "      <th>price_per_one</th>\n",
       "    </tr>\n",
       "  </thead>\n",
       "  <tbody>\n",
       "    <tr>\n",
       "      <td>0</td>\n",
       "      <td>85123A</td>\n",
       "      <td>2.55</td>\n",
       "    </tr>\n",
       "    <tr>\n",
       "      <td>1</td>\n",
       "      <td>71053</td>\n",
       "      <td>3.39</td>\n",
       "    </tr>\n",
       "    <tr>\n",
       "      <td>2</td>\n",
       "      <td>84406B</td>\n",
       "      <td>2.75</td>\n",
       "    </tr>\n",
       "  </tbody>\n",
       "</table>\n",
       "</div>"
      ],
      "text/plain": [
       "  productid  price_per_one\n",
       "0    85123A           2.55\n",
       "1     71053           3.39\n",
       "2    84406B           2.75"
      ]
     },
     "metadata": {},
     "output_type": "display_data"
    }
   ],
   "source": [
    "intro_df(cod)"
   ]
  },
  {
   "cell_type": "markdown",
   "metadata": {},
   "source": [
    "Загрузка данных успешно проведена. Выявленные аномалии:\n",
    "- информация о датах представлена типом данных 'object';\n",
    "- в количестве покупок имеются нулевые и отрицательные значения;\n",
    "- имеются 36210 пропущенных значений id покупателя;\n",
    "- количество значений id товара меньше, чем количество строк, т.е. одинаковые товары занесены в БД с разными ценами.\n"
   ]
  },
  {
   "cell_type": "markdown",
   "metadata": {},
   "source": [
    "### 2.2 Изменение типов данных<a class=\"anchor\" id=\"2.2-bullet\"></a>"
   ]
  },
  {
   "cell_type": "code",
   "execution_count": 7,
   "metadata": {},
   "outputs": [
    {
     "data": {
      "text/plain": [
       "0   2016-12-11\n",
       "Name: purchasedate, dtype: datetime64[ns]"
      ]
     },
     "execution_count": 7,
     "metadata": {},
     "output_type": "execute_result"
    }
   ],
   "source": [
    "pur['purchasedate'] = pd.to_datetime(pur['purchasedate']).dt.round(\"D\")\n",
    "pur['purchasedate'][0:1]"
   ]
  },
  {
   "cell_type": "markdown",
   "metadata": {},
   "source": [
    "Поле со временем совершения покупок успешно преобразовано во временной формат с округлением до дня."
   ]
  },
  {
   "cell_type": "code",
   "execution_count": 8,
   "metadata": {},
   "outputs": [],
   "source": [
    "pur['loyalty_program'] = pur['loyalty_program'].astype('int64')"
   ]
  },
  {
   "cell_type": "markdown",
   "metadata": {},
   "source": [
    "### 2.3 Обработка дубликатов<a class=\"anchor\" id=\"2.3-bullet\"></a>"
   ]
  },
  {
   "cell_type": "markdown",
   "metadata": {},
   "source": [
    "Учитывая их незначительное количество, дубликаты будут удалены."
   ]
  },
  {
   "cell_type": "code",
   "execution_count": 9,
   "metadata": {
    "scrolled": true
   },
   "outputs": [
    {
     "data": {
      "text/plain": [
       "(104301, 7)"
      ]
     },
     "execution_count": 9,
     "metadata": {},
     "output_type": "execute_result"
    }
   ],
   "source": [
    "pur.drop_duplicates().shape"
   ]
  },
  {
   "cell_type": "markdown",
   "metadata": {},
   "source": [
    "Дубликаты успешно удалены. Оставшееся количество строк для анализа - 104301."
   ]
  },
  {
   "cell_type": "markdown",
   "metadata": {},
   "source": [
    "### 2.4 Обработка пропущенных и отрицательных значений<a class=\"anchor\" id=\"2.4-bullet\"></a>"
   ]
  },
  {
   "cell_type": "markdown",
   "metadata": {},
   "source": [
    "Пропущенные значения поля \"customerid\" указывают на покупки, совершённые оптовыми клиентами, которые находятся вне интересов исследования и которые могут быть удалены.\n",
    "\n",
    "Отрицательные значения поля \"quantity\" являются возвратами и эти строки могут быть удалены."
   ]
  },
  {
   "cell_type": "markdown",
   "metadata": {},
   "source": [
    "Значения поля \"quantity\" равные нулю являются следствием технической ошибки и подлежат удалению, т.к. их заполнение ."
   ]
  },
  {
   "cell_type": "markdown",
   "metadata": {},
   "source": [
    "Формирование очищенного датасета:"
   ]
  },
  {
   "cell_type": "code",
   "execution_count": 10,
   "metadata": {},
   "outputs": [],
   "source": [
    "pur = pur[~pur['customerid'].isnull()]\n",
    "pur = pur[pur['quantity'] > 0]"
   ]
  },
  {
   "cell_type": "markdown",
   "metadata": {},
   "source": [
    "### 2.4 Изменение типов данных<a class=\"anchor\" id=\"2.4-bullet\"></a>"
   ]
  },
  {
   "cell_type": "code",
   "execution_count": 11,
   "metadata": {},
   "outputs": [],
   "source": [
    "pur['purchasedate'] = pd.to_datetime(pur['purchasedate']).dt.round(\"D\")\n",
    "pur[['customerid','loyalty_program', 'purchaseid']] = pur[['customerid','loyalty_program', 'purchaseid']]\\\n",
    "                                       .astype('int64')"
   ]
  },
  {
   "cell_type": "markdown",
   "metadata": {},
   "source": [
    "Преобразование типов данных успешно проведено."
   ]
  },
  {
   "cell_type": "markdown",
   "metadata": {},
   "source": [
    "### 2.5 Вывод по разделу<a class=\"anchor\" id=\"2.5-bullet\"></a>"
   ]
  },
  {
   "cell_type": "code",
   "execution_count": 12,
   "metadata": {},
   "outputs": [
    {
     "name": "stdout",
     "output_type": "stream",
     "text": [
      "Параметры таблицы , (строк, полей): (54168, 7)\n",
      "Количество дубликатов: 284\n"
     ]
    },
    {
     "data": {
      "text/html": [
       "<div>\n",
       "<style scoped>\n",
       "    .dataframe tbody tr th:only-of-type {\n",
       "        vertical-align: middle;\n",
       "    }\n",
       "\n",
       "    .dataframe tbody tr th {\n",
       "        vertical-align: top;\n",
       "    }\n",
       "\n",
       "    .dataframe thead th {\n",
       "        text-align: right;\n",
       "    }\n",
       "</style>\n",
       "<table border=\"1\" class=\"dataframe\">\n",
       "  <thead>\n",
       "    <tr style=\"text-align: right;\">\n",
       "      <th></th>\n",
       "      <th>purchaseid</th>\n",
       "      <th>item_id</th>\n",
       "      <th>quantity</th>\n",
       "      <th>purchasedate</th>\n",
       "      <th>customerid</th>\n",
       "      <th>shopid</th>\n",
       "      <th>loyalty_program</th>\n",
       "    </tr>\n",
       "  </thead>\n",
       "  <tbody>\n",
       "    <tr>\n",
       "      <td>values_counts</td>\n",
       "      <td>3329</td>\n",
       "      <td>2579</td>\n",
       "      <td>148</td>\n",
       "      <td>81</td>\n",
       "      <td>1671</td>\n",
       "      <td>29</td>\n",
       "      <td>2</td>\n",
       "    </tr>\n",
       "    <tr>\n",
       "      <td>dtypes</td>\n",
       "      <td>int64</td>\n",
       "      <td>object</td>\n",
       "      <td>int64</td>\n",
       "      <td>datetime64[ns]</td>\n",
       "      <td>int64</td>\n",
       "      <td>object</td>\n",
       "      <td>int64</td>\n",
       "    </tr>\n",
       "    <tr>\n",
       "      <td>isnull_counts</td>\n",
       "      <td>0</td>\n",
       "      <td>0</td>\n",
       "      <td>0</td>\n",
       "      <td>0</td>\n",
       "      <td>0</td>\n",
       "      <td>0</td>\n",
       "      <td>0</td>\n",
       "    </tr>\n",
       "    <tr>\n",
       "      <td>max</td>\n",
       "      <td>545218</td>\n",
       "      <td>POST</td>\n",
       "      <td>74214</td>\n",
       "      <td>2017-03-01 00:00:00</td>\n",
       "      <td>23962</td>\n",
       "      <td>Shop 9</td>\n",
       "      <td>1</td>\n",
       "    </tr>\n",
       "    <tr>\n",
       "      <td>min</td>\n",
       "      <td>536365</td>\n",
       "      <td>10002</td>\n",
       "      <td>1</td>\n",
       "      <td>2016-12-01 00:00:00</td>\n",
       "      <td>18025</td>\n",
       "      <td>Shop 0</td>\n",
       "      <td>0</td>\n",
       "    </tr>\n",
       "  </tbody>\n",
       "</table>\n",
       "</div>"
      ],
      "text/plain": [
       "              purchaseid item_id quantity         purchasedate customerid  \\\n",
       "values_counts       3329    2579      148                   81       1671   \n",
       "dtypes             int64  object    int64       datetime64[ns]      int64   \n",
       "isnull_counts          0       0        0                    0          0   \n",
       "max               545218    POST    74214  2017-03-01 00:00:00      23962   \n",
       "min               536365   10002        1  2016-12-01 00:00:00      18025   \n",
       "\n",
       "               shopid loyalty_program  \n",
       "values_counts      29               2  \n",
       "dtypes         object           int64  \n",
       "isnull_counts       0               0  \n",
       "max            Shop 9               1  \n",
       "min            Shop 0               0  "
      ]
     },
     "metadata": {},
     "output_type": "display_data"
    },
    {
     "name": "stdout",
     "output_type": "stream",
     "text": [
      "Первые 3 строки таблицы:\n"
     ]
    },
    {
     "data": {
      "text/html": [
       "<div>\n",
       "<style scoped>\n",
       "    .dataframe tbody tr th:only-of-type {\n",
       "        vertical-align: middle;\n",
       "    }\n",
       "\n",
       "    .dataframe tbody tr th {\n",
       "        vertical-align: top;\n",
       "    }\n",
       "\n",
       "    .dataframe thead th {\n",
       "        text-align: right;\n",
       "    }\n",
       "</style>\n",
       "<table border=\"1\" class=\"dataframe\">\n",
       "  <thead>\n",
       "    <tr style=\"text-align: right;\">\n",
       "      <th></th>\n",
       "      <th>purchaseid</th>\n",
       "      <th>item_id</th>\n",
       "      <th>quantity</th>\n",
       "      <th>purchasedate</th>\n",
       "      <th>customerid</th>\n",
       "      <th>shopid</th>\n",
       "      <th>loyalty_program</th>\n",
       "    </tr>\n",
       "  </thead>\n",
       "  <tbody>\n",
       "    <tr>\n",
       "      <td>0</td>\n",
       "      <td>538280</td>\n",
       "      <td>21873</td>\n",
       "      <td>11</td>\n",
       "      <td>2016-12-11</td>\n",
       "      <td>18427</td>\n",
       "      <td>Shop 0</td>\n",
       "      <td>0</td>\n",
       "    </tr>\n",
       "    <tr>\n",
       "      <td>2</td>\n",
       "      <td>538855</td>\n",
       "      <td>21239</td>\n",
       "      <td>7</td>\n",
       "      <td>2016-12-15</td>\n",
       "      <td>22182</td>\n",
       "      <td>Shop 0</td>\n",
       "      <td>1</td>\n",
       "    </tr>\n",
       "    <tr>\n",
       "      <td>10</td>\n",
       "      <td>537795</td>\n",
       "      <td>82494L</td>\n",
       "      <td>5</td>\n",
       "      <td>2016-12-09</td>\n",
       "      <td>22892</td>\n",
       "      <td>Shop 0</td>\n",
       "      <td>1</td>\n",
       "    </tr>\n",
       "  </tbody>\n",
       "</table>\n",
       "</div>"
      ],
      "text/plain": [
       "    purchaseid item_id  quantity purchasedate  customerid  shopid  \\\n",
       "0       538280   21873        11   2016-12-11       18427  Shop 0   \n",
       "2       538855   21239         7   2016-12-15       22182  Shop 0   \n",
       "10      537795  82494L         5   2016-12-09       22892  Shop 0   \n",
       "\n",
       "    loyalty_program  \n",
       "0                 0  \n",
       "2                 1  \n",
       "10                1  "
      ]
     },
     "metadata": {},
     "output_type": "display_data"
    }
   ],
   "source": [
    "intro_df(pur)"
   ]
  },
  {
   "cell_type": "markdown",
   "metadata": {},
   "source": [
    "После валидации исходных можно выделить следующие особенности данных к дальнейшей обработке:\n",
    "- количичество строк уменьшилось на 49%, с 105 тыс. до 54 тыс. строк;\n",
    "- количество чеков уменьшилось на 32%, с 4,9 тыс. до 3,3 тыс. чеков;\n",
    "- количество уникальных покупателей на 6%, с 1,7 тыс. до 1,6 тыс. покупателей.\n",
    "\n",
    "Таким образом, удаление выбивающихся из логики исследования данных позволило оставить репрезентативную выборку покупателей и признать датасет пригодным для дальнейшей обработки.\n"
   ]
  },
  {
   "cell_type": "markdown",
   "metadata": {},
   "source": [
    "## 3. Исследовательский анализ данных<a class=\"anchor\" id=\"3-bullet\"></a>"
   ]
  },
  {
   "cell_type": "markdown",
   "metadata": {},
   "source": [
    "### 3.1 Объединение данных о покупках и стоимости товаров<a class=\"anchor\" id=\"3.1-bullet\"></a>"
   ]
  },
  {
   "cell_type": "markdown",
   "metadata": {},
   "source": [
    "Объдинение прозводится после расчёта средней цены товара."
   ]
  },
  {
   "cell_type": "code",
   "execution_count": 13,
   "metadata": {},
   "outputs": [
    {
     "name": "stdout",
     "output_type": "stream",
     "text": [
      "Параметры таблицы , (строк, полей): (54168, 9)\n",
      "Количество дубликатов: 284\n"
     ]
    },
    {
     "data": {
      "text/html": [
       "<div>\n",
       "<style scoped>\n",
       "    .dataframe tbody tr th:only-of-type {\n",
       "        vertical-align: middle;\n",
       "    }\n",
       "\n",
       "    .dataframe tbody tr th {\n",
       "        vertical-align: top;\n",
       "    }\n",
       "\n",
       "    .dataframe thead th {\n",
       "        text-align: right;\n",
       "    }\n",
       "</style>\n",
       "<table border=\"1\" class=\"dataframe\">\n",
       "  <thead>\n",
       "    <tr style=\"text-align: right;\">\n",
       "      <th></th>\n",
       "      <th>purchaseid</th>\n",
       "      <th>item_id</th>\n",
       "      <th>quantity</th>\n",
       "      <th>purchasedate</th>\n",
       "      <th>customerid</th>\n",
       "      <th>shopid</th>\n",
       "      <th>loyalty_program</th>\n",
       "      <th>price_per_one</th>\n",
       "      <th>revenue</th>\n",
       "    </tr>\n",
       "  </thead>\n",
       "  <tbody>\n",
       "    <tr>\n",
       "      <td>values_counts</td>\n",
       "      <td>3329</td>\n",
       "      <td>2579</td>\n",
       "      <td>148</td>\n",
       "      <td>81</td>\n",
       "      <td>1671</td>\n",
       "      <td>29</td>\n",
       "      <td>2</td>\n",
       "      <td>1035</td>\n",
       "      <td>6540</td>\n",
       "    </tr>\n",
       "    <tr>\n",
       "      <td>dtypes</td>\n",
       "      <td>int64</td>\n",
       "      <td>object</td>\n",
       "      <td>int64</td>\n",
       "      <td>datetime64[ns]</td>\n",
       "      <td>int64</td>\n",
       "      <td>object</td>\n",
       "      <td>int64</td>\n",
       "      <td>float64</td>\n",
       "      <td>float64</td>\n",
       "    </tr>\n",
       "    <tr>\n",
       "      <td>isnull_counts</td>\n",
       "      <td>0</td>\n",
       "      <td>0</td>\n",
       "      <td>0</td>\n",
       "      <td>0</td>\n",
       "      <td>0</td>\n",
       "      <td>0</td>\n",
       "      <td>0</td>\n",
       "      <td>0</td>\n",
       "      <td>0</td>\n",
       "    </tr>\n",
       "    <tr>\n",
       "      <td>max</td>\n",
       "      <td>545218</td>\n",
       "      <td>POST</td>\n",
       "      <td>74214</td>\n",
       "      <td>2017-03-01 00:00:00</td>\n",
       "      <td>23962</td>\n",
       "      <td>Shop 9</td>\n",
       "      <td>1</td>\n",
       "      <td>253.766</td>\n",
       "      <td>77182.6</td>\n",
       "    </tr>\n",
       "    <tr>\n",
       "      <td>min</td>\n",
       "      <td>536365</td>\n",
       "      <td>10002</td>\n",
       "      <td>1</td>\n",
       "      <td>2016-12-01 00:00:00</td>\n",
       "      <td>18025</td>\n",
       "      <td>Shop 0</td>\n",
       "      <td>0</td>\n",
       "      <td>0.06</td>\n",
       "      <td>0.19</td>\n",
       "    </tr>\n",
       "  </tbody>\n",
       "</table>\n",
       "</div>"
      ],
      "text/plain": [
       "              purchaseid item_id quantity         purchasedate customerid  \\\n",
       "values_counts       3329    2579      148                   81       1671   \n",
       "dtypes             int64  object    int64       datetime64[ns]      int64   \n",
       "isnull_counts          0       0        0                    0          0   \n",
       "max               545218    POST    74214  2017-03-01 00:00:00      23962   \n",
       "min               536365   10002        1  2016-12-01 00:00:00      18025   \n",
       "\n",
       "               shopid loyalty_program price_per_one  revenue  \n",
       "values_counts      29               2          1035     6540  \n",
       "dtypes         object           int64       float64  float64  \n",
       "isnull_counts       0               0             0        0  \n",
       "max            Shop 9               1       253.766  77182.6  \n",
       "min            Shop 0               0          0.06     0.19  "
      ]
     },
     "metadata": {},
     "output_type": "display_data"
    },
    {
     "name": "stdout",
     "output_type": "stream",
     "text": [
      "Первые 3 строки таблицы:\n"
     ]
    },
    {
     "data": {
      "text/html": [
       "<div>\n",
       "<style scoped>\n",
       "    .dataframe tbody tr th:only-of-type {\n",
       "        vertical-align: middle;\n",
       "    }\n",
       "\n",
       "    .dataframe tbody tr th {\n",
       "        vertical-align: top;\n",
       "    }\n",
       "\n",
       "    .dataframe thead th {\n",
       "        text-align: right;\n",
       "    }\n",
       "</style>\n",
       "<table border=\"1\" class=\"dataframe\">\n",
       "  <thead>\n",
       "    <tr style=\"text-align: right;\">\n",
       "      <th></th>\n",
       "      <th>purchaseid</th>\n",
       "      <th>item_id</th>\n",
       "      <th>quantity</th>\n",
       "      <th>purchasedate</th>\n",
       "      <th>customerid</th>\n",
       "      <th>shopid</th>\n",
       "      <th>loyalty_program</th>\n",
       "      <th>price_per_one</th>\n",
       "      <th>revenue</th>\n",
       "    </tr>\n",
       "  </thead>\n",
       "  <tbody>\n",
       "    <tr>\n",
       "      <td>0</td>\n",
       "      <td>538280</td>\n",
       "      <td>21873</td>\n",
       "      <td>11</td>\n",
       "      <td>2016-12-11</td>\n",
       "      <td>18427</td>\n",
       "      <td>Shop 0</td>\n",
       "      <td>0</td>\n",
       "      <td>1.810</td>\n",
       "      <td>19.910</td>\n",
       "    </tr>\n",
       "    <tr>\n",
       "      <td>1</td>\n",
       "      <td>538855</td>\n",
       "      <td>21239</td>\n",
       "      <td>7</td>\n",
       "      <td>2016-12-15</td>\n",
       "      <td>22182</td>\n",
       "      <td>Shop 0</td>\n",
       "      <td>1</td>\n",
       "      <td>1.474</td>\n",
       "      <td>10.318</td>\n",
       "    </tr>\n",
       "    <tr>\n",
       "      <td>2</td>\n",
       "      <td>537795</td>\n",
       "      <td>82494L</td>\n",
       "      <td>5</td>\n",
       "      <td>2016-12-09</td>\n",
       "      <td>22892</td>\n",
       "      <td>Shop 0</td>\n",
       "      <td>1</td>\n",
       "      <td>5.145</td>\n",
       "      <td>25.725</td>\n",
       "    </tr>\n",
       "  </tbody>\n",
       "</table>\n",
       "</div>"
      ],
      "text/plain": [
       "   purchaseid item_id  quantity purchasedate  customerid  shopid  \\\n",
       "0      538280   21873        11   2016-12-11       18427  Shop 0   \n",
       "1      538855   21239         7   2016-12-15       22182  Shop 0   \n",
       "2      537795  82494L         5   2016-12-09       22892  Shop 0   \n",
       "\n",
       "   loyalty_program  price_per_one  revenue  \n",
       "0                0          1.810   19.910  \n",
       "1                1          1.474   10.318  \n",
       "2                1          5.145   25.725  "
      ]
     },
     "metadata": {},
     "output_type": "display_data"
    }
   ],
   "source": [
    "rep = pur.merge(cod.groupby('productid')['price_per_one'].mean().to_frame(),\n",
    "                left_on='item_id', \n",
    "                right_on = 'productid',\n",
    "                how='left')\n",
    "rep['revenue'] = rep['quantity'] * rep['price_per_one']\n",
    "\n",
    "intro_df(rep)"
   ]
  },
  {
   "cell_type": "markdown",
   "metadata": {},
   "source": [
    "Объединение произведено успешно, количество строк совпадает с исходным без пропущенных значений."
   ]
  },
  {
   "cell_type": "code",
   "execution_count": 14,
   "metadata": {},
   "outputs": [],
   "source": [
    "# сохранение исходного набора данных для дополнительных расчётов\n",
    "rep_st = rep"
   ]
  },
  {
   "cell_type": "markdown",
   "metadata": {},
   "source": [
    "### 3.2 Группировка данных для оценки распределений<a class=\"anchor\" id=\"3.2-bullet\"></a>"
   ]
  },
  {
   "cell_type": "markdown",
   "metadata": {},
   "source": [
    "Группировка количества заказов на покупателя"
   ]
  },
  {
   "cell_type": "code",
   "execution_count": 15,
   "metadata": {},
   "outputs": [
    {
     "data": {
      "text/html": [
       "<div>\n",
       "<style scoped>\n",
       "    .dataframe tbody tr th:only-of-type {\n",
       "        vertical-align: middle;\n",
       "    }\n",
       "\n",
       "    .dataframe tbody tr th {\n",
       "        vertical-align: top;\n",
       "    }\n",
       "\n",
       "    .dataframe thead th {\n",
       "        text-align: right;\n",
       "    }\n",
       "</style>\n",
       "<table border=\"1\" class=\"dataframe\">\n",
       "  <thead>\n",
       "    <tr style=\"text-align: right;\">\n",
       "      <th></th>\n",
       "      <th>customerid</th>\n",
       "      <th>purchaseid</th>\n",
       "    </tr>\n",
       "  </thead>\n",
       "  <tbody>\n",
       "    <tr>\n",
       "      <td>0</td>\n",
       "      <td>18025</td>\n",
       "      <td>1</td>\n",
       "    </tr>\n",
       "    <tr>\n",
       "      <td>1</td>\n",
       "      <td>18026</td>\n",
       "      <td>2</td>\n",
       "    </tr>\n",
       "    <tr>\n",
       "      <td>2</td>\n",
       "      <td>18027</td>\n",
       "      <td>2</td>\n",
       "    </tr>\n",
       "  </tbody>\n",
       "</table>\n",
       "</div>"
      ],
      "text/plain": [
       "   customerid  purchaseid\n",
       "0       18025           1\n",
       "1       18026           2\n",
       "2       18027           2"
      ]
     },
     "execution_count": 15,
     "metadata": {},
     "output_type": "execute_result"
    }
   ],
   "source": [
    "# группировка количества заказов по пользователям\n",
    "rep_cus = rep.groupby('customerid', as_index = False)\\\n",
    "                .agg({'purchaseid': pd.Series.nunique})\n",
    "rep_cus.head(3)"
   ]
  },
  {
   "cell_type": "markdown",
   "metadata": {},
   "source": [
    "Формирование стоимости каждого чека"
   ]
  },
  {
   "cell_type": "code",
   "execution_count": 16,
   "metadata": {},
   "outputs": [
    {
     "data": {
      "text/html": [
       "<div>\n",
       "<style scoped>\n",
       "    .dataframe tbody tr th:only-of-type {\n",
       "        vertical-align: middle;\n",
       "    }\n",
       "\n",
       "    .dataframe tbody tr th {\n",
       "        vertical-align: top;\n",
       "    }\n",
       "\n",
       "    .dataframe thead th {\n",
       "        text-align: right;\n",
       "    }\n",
       "</style>\n",
       "<table border=\"1\" class=\"dataframe\">\n",
       "  <thead>\n",
       "    <tr style=\"text-align: right;\">\n",
       "      <th></th>\n",
       "      <th>purchaseid</th>\n",
       "      <th>revenue</th>\n",
       "    </tr>\n",
       "  </thead>\n",
       "  <tbody>\n",
       "    <tr>\n",
       "      <td>0</td>\n",
       "      <td>536365</td>\n",
       "      <td>184.471417</td>\n",
       "    </tr>\n",
       "    <tr>\n",
       "      <td>1</td>\n",
       "      <td>536366</td>\n",
       "      <td>20.400000</td>\n",
       "    </tr>\n",
       "    <tr>\n",
       "      <td>2</td>\n",
       "      <td>536367</td>\n",
       "      <td>295.588750</td>\n",
       "    </tr>\n",
       "  </tbody>\n",
       "</table>\n",
       "</div>"
      ],
      "text/plain": [
       "   purchaseid     revenue\n",
       "0      536365  184.471417\n",
       "1      536366   20.400000\n",
       "2      536367  295.588750"
      ]
     },
     "execution_count": 16,
     "metadata": {},
     "output_type": "execute_result"
    }
   ],
   "source": [
    "rep_rev = rep.groupby('purchaseid', as_index = False)\\\n",
    "                .agg({'revenue': pd.Series.sum})\n",
    "rep_rev.head(3)"
   ]
  },
  {
   "cell_type": "markdown",
   "metadata": {},
   "source": [
    "### 3.3 Оценка распределений и корреляций<a class=\"anchor\" id=\"3.3-bullet\"></a>"
   ]
  },
  {
   "cell_type": "code",
   "execution_count": 17,
   "metadata": {},
   "outputs": [],
   "source": [
    "# функция для визуализации распределений и расчёта перцентелей для определения стат. выбросов\n",
    "\n",
    "def distr(tit, a, d):\n",
    "    fig, ax = plt.subplots(1,2, figsize = (15,5))\n",
    "    fig.suptitle(tit, fontsize=18)\n",
    "    \n",
    "    # построение гистограммы распределения покупок в расчёте на одного покупателя\n",
    "    ax[0].hist(a)\n",
    "    #ax[0].set_xlabel('количество заказов')\n",
    "    #ax[0].set_ylabel('количество покупателей')\n",
    "    \n",
    "    # построение точечной гистограммы распределения покупок в расчёте на одного покупателя\n",
    "    x_values = pd.Series(range(0, len(d)))\n",
    "    ax[1].scatter(x_values, a)\n",
    "    ax[1].set_xlabel('покупатели')\n",
    "    ax[1].set_ylabel('количество заказов')\n",
    "    plt.show()\n",
    "    \n",
    "    # расчёт перцентилей для определения уровня статистических выбросов\n",
    "    pers = np.percentile(a, [95, 99])\n",
    "    print('Дополнительные показатели:')\n",
    "    print('95-й перцентиль - {:.0f};'.format(pers[0]))\n",
    "    print('99-й перцентиль - {:.0f}.'.format(pers[1]))\n",
    "    print()\n",
    "    # проверка распределения на нормальность\n",
    "    ord_norm = stats.shapiro(a)\n",
    "    print('Критерий Шапиро-Уилка: p-value - {:.4%}; statistic - {:.4%}.'\n",
    "          .format(ord_norm[1], ord_norm[0]))\n",
    "\n",
    "    if (ord_norm[1] < 0.05): print(\"Распределение не нормально.\")\n",
    "    else: print(\"Распределение нормально.\")"
   ]
  },
  {
   "cell_type": "code",
   "execution_count": 18,
   "metadata": {},
   "outputs": [
    {
     "data": {
      "image/png": "[encoded data removed]",
      "text/plain": [
       "<Figure size 1080x360 with 2 Axes>"
      ]
     },
     "metadata": {},
     "output_type": "display_data"
    },
    {
     "name": "stdout",
     "output_type": "stream",
     "text": [
      "Дополнительные показатели:\n",
      "95-й перцентиль - 5;\n",
      "99-й перцентиль - 11.\n",
      "\n",
      "Критерий Шапиро-Уилка: p-value - 0.0000%; statistic - 42.8067%.\n",
      "Распределение не нормально.\n"
     ]
    },
    {
     "data": {
      "image/png": "[encoded data removed]",
      "text/plain": [
       "<Figure size 1080x360 with 2 Axes>"
      ]
     },
     "metadata": {},
     "output_type": "display_data"
    },
    {
     "name": "stdout",
     "output_type": "stream",
     "text": [
      "Дополнительные показатели:\n",
      "95-й перцентиль - 2036;\n",
      "99-й перцентиль - 5940.\n",
      "\n",
      "Критерий Шапиро-Уилка: p-value - 0.0000%; statistic - 20.9830%.\n",
      "Распределение не нормально.\n"
     ]
    }
   ],
   "source": [
    "distr('Распределение количества заказов на покупателя', rep_cus['purchaseid'], rep_cus)\n",
    "distr('Распределение сумм чеков', rep_rev['revenue'], rep_rev)"
   ]
  },
  {
   "cell_type": "markdown",
   "metadata": {},
   "source": [
    "Таким образом, статистическими выбросами определено количество чеков - 11 чеков, сумма чека - 5940 руб. и выше."
   ]
  },
  {
   "cell_type": "markdown",
   "metadata": {},
   "source": [
    "### 3.4 Обработка статистических выбросов и формирование итогового набора данных <a class=\"anchor\" id=\"3.4-bullet\"></a>"
   ]
  },
  {
   "cell_type": "markdown",
   "metadata": {},
   "source": [
    "Для устранения влияния на показатели данные будут очищены от статистических выбросов в соответствии с параметрами определёнными в предыдущем разделе."
   ]
  },
  {
   "cell_type": "code",
   "execution_count": 19,
   "metadata": {},
   "outputs": [],
   "source": [
    "# формирование списка иденификаторов покупателей с количеством чеков 11 и более\n",
    "list_11 = list(rep_cus[rep_cus['purchaseid'] >= 11]['customerid'])\n"
   ]
  },
  {
   "cell_type": "code",
   "execution_count": 20,
   "metadata": {},
   "outputs": [],
   "source": [
    "# удаление выбросов и формирование итогового набора данных\n",
    "rep = rep.groupby(['purchaseid', 'purchasedate', 'customerid', 'loyalty_program'])\\\n",
    "                 ['revenue'].sum().to_frame().reset_index()\n",
    "rep = rep[~rep['customerid'].isin(list_11)]\n",
    "rep = rep[rep['revenue'] < 5940]"
   ]
  },
  {
   "cell_type": "markdown",
   "metadata": {},
   "source": [
    "Расчёт совокупной выручки с учётом ежемесячной комиссии для участников программы лояльности производится по пессимистическому сценарию, что комиссию с клиента можно списать только при первой покупке в текущем месяце. Для расчёта будет опредлён первый чек каждого месяца и к нему суммирована комиссия за данный месяц."
   ]
  },
  {
   "cell_type": "code",
   "execution_count": 21,
   "metadata": {},
   "outputs": [
    {
     "data": {
      "text/html": [
       "<div>\n",
       "<style scoped>\n",
       "    .dataframe tbody tr th:only-of-type {\n",
       "        vertical-align: middle;\n",
       "    }\n",
       "\n",
       "    .dataframe tbody tr th {\n",
       "        vertical-align: top;\n",
       "    }\n",
       "\n",
       "    .dataframe thead th {\n",
       "        text-align: right;\n",
       "    }\n",
       "</style>\n",
       "<table border=\"1\" class=\"dataframe\">\n",
       "  <thead>\n",
       "    <tr style=\"text-align: right;\">\n",
       "      <th></th>\n",
       "      <th>customerid</th>\n",
       "      <th>fee_month</th>\n",
       "      <th>purchaseid</th>\n",
       "    </tr>\n",
       "  </thead>\n",
       "  <tbody>\n",
       "    <tr>\n",
       "      <td>0</td>\n",
       "      <td>22005</td>\n",
       "      <td>1</td>\n",
       "      <td>540516</td>\n",
       "    </tr>\n",
       "    <tr>\n",
       "      <td>1</td>\n",
       "      <td>22006</td>\n",
       "      <td>1</td>\n",
       "      <td>542503</td>\n",
       "    </tr>\n",
       "    <tr>\n",
       "      <td>2</td>\n",
       "      <td>22011</td>\n",
       "      <td>2</td>\n",
       "      <td>543359</td>\n",
       "    </tr>\n",
       "  </tbody>\n",
       "</table>\n",
       "</div>"
      ],
      "text/plain": [
       "   customerid  fee_month  purchaseid\n",
       "0       22005          1      540516\n",
       "1       22006          1      542503\n",
       "2       22011          2      543359"
      ]
     },
     "execution_count": 21,
     "metadata": {},
     "output_type": "execute_result"
    }
   ],
   "source": [
    "# выделение месяца чека для признака для последующей группировки\n",
    "rep['fee_month'] = rep['purchasedate'].dt.month\n",
    "\n",
    "# группировка для определения минимального номера чека для каждого участника программы лояльности\n",
    "fir_pur = rep.query('loyalty_program == 1')\\\n",
    "          .groupby(['customerid', 'fee_month'])['purchaseid'].min()\\\n",
    "          .to_frame().reset_index()\n",
    "\n",
    "fir_pur.head(3)"
   ]
  },
  {
   "cell_type": "code",
   "execution_count": 22,
   "metadata": {},
   "outputs": [
    {
     "data": {
      "text/html": [
       "<div>\n",
       "<style scoped>\n",
       "    .dataframe tbody tr th:only-of-type {\n",
       "        vertical-align: middle;\n",
       "    }\n",
       "\n",
       "    .dataframe tbody tr th {\n",
       "        vertical-align: top;\n",
       "    }\n",
       "\n",
       "    .dataframe thead th {\n",
       "        text-align: right;\n",
       "    }\n",
       "</style>\n",
       "<table border=\"1\" class=\"dataframe\">\n",
       "  <thead>\n",
       "    <tr style=\"text-align: right;\">\n",
       "      <th></th>\n",
       "      <th>purchaseid</th>\n",
       "      <th>month_fee</th>\n",
       "    </tr>\n",
       "  </thead>\n",
       "  <tbody>\n",
       "    <tr>\n",
       "      <td>0</td>\n",
       "      <td>540516</td>\n",
       "      <td>200</td>\n",
       "    </tr>\n",
       "    <tr>\n",
       "      <td>1</td>\n",
       "      <td>542503</td>\n",
       "      <td>200</td>\n",
       "    </tr>\n",
       "    <tr>\n",
       "      <td>2</td>\n",
       "      <td>543359</td>\n",
       "      <td>200</td>\n",
       "    </tr>\n",
       "  </tbody>\n",
       "</table>\n",
       "</div>"
      ],
      "text/plain": [
       "   purchaseid  month_fee\n",
       "0      540516        200\n",
       "1      542503        200\n",
       "2      543359        200"
      ]
     },
     "execution_count": 22,
     "metadata": {},
     "output_type": "execute_result"
    }
   ],
   "source": [
    "# привязка чека к сумме комиссии\n",
    "fir_pur['month_fee'] = 200\n",
    "fir_pur = fir_pur[['purchaseid', 'month_fee']]\n",
    "fir_pur.head(3)"
   ]
  },
  {
   "cell_type": "code",
   "execution_count": 23,
   "metadata": {},
   "outputs": [],
   "source": [
    "# связывание набора данных и расчётной суммы комиссии по номеру чека\n",
    "rep = rep.merge(fir_pur, on='purchaseid', how='left')"
   ]
  },
  {
   "cell_type": "code",
   "execution_count": 27,
   "metadata": {},
   "outputs": [
    {
     "data": {
      "text/plain": [
       "True"
      ]
     },
     "execution_count": 27,
     "metadata": {},
     "output_type": "execute_result"
    }
   ],
   "source": [
    "rep[rep.loyalty_program > 0].purchaseid.nunique() == len(rep[rep.loyalty_program > 0].purchaseid)"
   ]
  },
  {
   "cell_type": "code",
   "execution_count": 24,
   "metadata": {},
   "outputs": [],
   "source": [
    "# расчёт выручки с учётом ежемесячной комиссии\n",
    "rep = rep.fillna(0)\n",
    "rep['revenue'] = rep['revenue'] + rep['month_fee']"
   ]
  },
  {
   "cell_type": "markdown",
   "metadata": {},
   "source": [
    "Параметры итогового набора данных"
   ]
  },
  {
   "cell_type": "code",
   "execution_count": 25,
   "metadata": {},
   "outputs": [
    {
     "name": "stdout",
     "output_type": "stream",
     "text": [
      "Параметры таблицы , (строк, полей): (2963, 7)\n",
      "Количество дубликатов: 0\n"
     ]
    },
    {
     "data": {
      "text/html": [
       "<div>\n",
       "<style scoped>\n",
       "    .dataframe tbody tr th:only-of-type {\n",
       "        vertical-align: middle;\n",
       "    }\n",
       "\n",
       "    .dataframe tbody tr th {\n",
       "        vertical-align: top;\n",
       "    }\n",
       "\n",
       "    .dataframe thead th {\n",
       "        text-align: right;\n",
       "    }\n",
       "</style>\n",
       "<table border=\"1\" class=\"dataframe\">\n",
       "  <thead>\n",
       "    <tr style=\"text-align: right;\">\n",
       "      <th></th>\n",
       "      <th>purchaseid</th>\n",
       "      <th>purchasedate</th>\n",
       "      <th>customerid</th>\n",
       "      <th>loyalty_program</th>\n",
       "      <th>revenue</th>\n",
       "      <th>fee_month</th>\n",
       "      <th>month_fee</th>\n",
       "    </tr>\n",
       "  </thead>\n",
       "  <tbody>\n",
       "    <tr>\n",
       "      <td>values_counts</td>\n",
       "      <td>2963</td>\n",
       "      <td>81</td>\n",
       "      <td>1647</td>\n",
       "      <td>2</td>\n",
       "      <td>2938</td>\n",
       "      <td>4</td>\n",
       "      <td>2</td>\n",
       "    </tr>\n",
       "    <tr>\n",
       "      <td>dtypes</td>\n",
       "      <td>int64</td>\n",
       "      <td>datetime64[ns]</td>\n",
       "      <td>int64</td>\n",
       "      <td>int64</td>\n",
       "      <td>float64</td>\n",
       "      <td>int64</td>\n",
       "      <td>float64</td>\n",
       "    </tr>\n",
       "    <tr>\n",
       "      <td>isnull_counts</td>\n",
       "      <td>0</td>\n",
       "      <td>0</td>\n",
       "      <td>0</td>\n",
       "      <td>0</td>\n",
       "      <td>0</td>\n",
       "      <td>0</td>\n",
       "      <td>0</td>\n",
       "    </tr>\n",
       "    <tr>\n",
       "      <td>max</td>\n",
       "      <td>545218</td>\n",
       "      <td>2017-03-01 00:00:00</td>\n",
       "      <td>23962</td>\n",
       "      <td>1</td>\n",
       "      <td>5908.69</td>\n",
       "      <td>12</td>\n",
       "      <td>200</td>\n",
       "    </tr>\n",
       "    <tr>\n",
       "      <td>min</td>\n",
       "      <td>536367</td>\n",
       "      <td>2016-12-01 00:00:00</td>\n",
       "      <td>18026</td>\n",
       "      <td>0</td>\n",
       "      <td>0.95</td>\n",
       "      <td>1</td>\n",
       "      <td>0</td>\n",
       "    </tr>\n",
       "  </tbody>\n",
       "</table>\n",
       "</div>"
      ],
      "text/plain": [
       "              purchaseid         purchasedate customerid loyalty_program  \\\n",
       "values_counts       2963                   81       1647               2   \n",
       "dtypes             int64       datetime64[ns]      int64           int64   \n",
       "isnull_counts          0                    0          0               0   \n",
       "max               545218  2017-03-01 00:00:00      23962               1   \n",
       "min               536367  2016-12-01 00:00:00      18026               0   \n",
       "\n",
       "               revenue fee_month month_fee  \n",
       "values_counts     2938         4         2  \n",
       "dtypes         float64     int64   float64  \n",
       "isnull_counts        0         0         0  \n",
       "max            5908.69        12       200  \n",
       "min               0.95         1         0  "
      ]
     },
     "metadata": {},
     "output_type": "display_data"
    },
    {
     "name": "stdout",
     "output_type": "stream",
     "text": [
      "Первые 3 строки таблицы:\n"
     ]
    },
    {
     "data": {
      "text/html": [
       "<div>\n",
       "<style scoped>\n",
       "    .dataframe tbody tr th:only-of-type {\n",
       "        vertical-align: middle;\n",
       "    }\n",
       "\n",
       "    .dataframe tbody tr th {\n",
       "        vertical-align: top;\n",
       "    }\n",
       "\n",
       "    .dataframe thead th {\n",
       "        text-align: right;\n",
       "    }\n",
       "</style>\n",
       "<table border=\"1\" class=\"dataframe\">\n",
       "  <thead>\n",
       "    <tr style=\"text-align: right;\">\n",
       "      <th></th>\n",
       "      <th>purchaseid</th>\n",
       "      <th>purchasedate</th>\n",
       "      <th>customerid</th>\n",
       "      <th>loyalty_program</th>\n",
       "      <th>revenue</th>\n",
       "      <th>fee_month</th>\n",
       "      <th>month_fee</th>\n",
       "    </tr>\n",
       "  </thead>\n",
       "  <tbody>\n",
       "    <tr>\n",
       "      <td>0</td>\n",
       "      <td>536367</td>\n",
       "      <td>2016-12-01</td>\n",
       "      <td>18726</td>\n",
       "      <td>0</td>\n",
       "      <td>295.58875</td>\n",
       "      <td>12</td>\n",
       "      <td>0.0</td>\n",
       "    </tr>\n",
       "    <tr>\n",
       "      <td>1</td>\n",
       "      <td>536368</td>\n",
       "      <td>2016-12-01</td>\n",
       "      <td>18726</td>\n",
       "      <td>0</td>\n",
       "      <td>84.47000</td>\n",
       "      <td>12</td>\n",
       "      <td>0.0</td>\n",
       "    </tr>\n",
       "    <tr>\n",
       "      <td>2</td>\n",
       "      <td>536369</td>\n",
       "      <td>2016-12-01</td>\n",
       "      <td>18726</td>\n",
       "      <td>0</td>\n",
       "      <td>16.60000</td>\n",
       "      <td>12</td>\n",
       "      <td>0.0</td>\n",
       "    </tr>\n",
       "  </tbody>\n",
       "</table>\n",
       "</div>"
      ],
      "text/plain": [
       "   purchaseid purchasedate  customerid  loyalty_program    revenue  fee_month  \\\n",
       "0      536367   2016-12-01       18726                0  295.58875         12   \n",
       "1      536368   2016-12-01       18726                0   84.47000         12   \n",
       "2      536369   2016-12-01       18726                0   16.60000         12   \n",
       "\n",
       "   month_fee  \n",
       "0        0.0  \n",
       "1        0.0  \n",
       "2        0.0  "
      ]
     },
     "metadata": {},
     "output_type": "display_data"
    }
   ],
   "source": [
    "intro_df(rep)"
   ]
  },
  {
   "cell_type": "markdown",
   "metadata": {},
   "source": [
    "## 4. Анализ программы лояльности<a class=\"anchor\" id=\"4-bullet\"></a>"
   ]
  },
  {
   "cell_type": "markdown",
   "metadata": {},
   "source": [
    "### 4.1 Оценка выручки по группам клиентов<a class=\"anchor\" id=\"4.1-bullet\"></a>"
   ]
  },
  {
   "cell_type": "code",
   "execution_count": 26,
   "metadata": {},
   "outputs": [
    {
     "data": {
      "text/html": [
       "<div>\n",
       "<style scoped>\n",
       "    .dataframe tbody tr th:only-of-type {\n",
       "        vertical-align: middle;\n",
       "    }\n",
       "\n",
       "    .dataframe tbody tr th {\n",
       "        vertical-align: top;\n",
       "    }\n",
       "\n",
       "    .dataframe thead th {\n",
       "        text-align: right;\n",
       "    }\n",
       "</style>\n",
       "<table border=\"1\" class=\"dataframe\">\n",
       "  <thead>\n",
       "    <tr style=\"text-align: right;\">\n",
       "      <th></th>\n",
       "      <th>customerid</th>\n",
       "    </tr>\n",
       "    <tr>\n",
       "      <th>loyalty_program</th>\n",
       "      <th></th>\n",
       "    </tr>\n",
       "  </thead>\n",
       "  <tbody>\n",
       "    <tr>\n",
       "      <td>0</td>\n",
       "      <td>1090</td>\n",
       "    </tr>\n",
       "    <tr>\n",
       "      <td>1</td>\n",
       "      <td>557</td>\n",
       "    </tr>\n",
       "  </tbody>\n",
       "</table>\n",
       "</div>"
      ],
      "text/plain": [
       "                 customerid\n",
       "loyalty_program            \n",
       "0                      1090\n",
       "1                       557"
      ]
     },
     "execution_count": 26,
     "metadata": {},
     "output_type": "execute_result"
    }
   ],
   "source": [
    "AB = rep.groupby('loyalty_program').agg({'customerid':'nunique'})\n",
    "AB"
   ]
  },
  {
   "cell_type": "code",
   "execution_count": 27,
   "metadata": {},
   "outputs": [
    {
     "name": "stdout",
     "output_type": "stream",
     "text": [
      "Количество списаний комиссии за анализируемый период -  2963\n",
      "Сумма списанной комиссии за анализируемый период - 159400.0 руб.\n"
     ]
    }
   ],
   "source": [
    "print('Количество списаний комиссии за анализируемый период - ', rep['month_fee'].count())\n",
    "print('Сумма списанной комиссии за анализируемый период - {} руб.'.format(rep['month_fee'].sum()))"
   ]
  },
  {
   "cell_type": "code",
   "execution_count": 28,
   "metadata": {},
   "outputs": [
    {
     "data": {
      "image/png": "[encoded data removed]",
      "text/plain": [
       "<Figure size 360x360 with 1 Axes>"
      ]
     },
     "metadata": {},
     "output_type": "display_data"
    }
   ],
   "source": [
    "# распределение покупателей по группам\n",
    "rep.groupby('loyalty_program').agg({'customerid':'nunique'}).plot(\n",
    "            figsize = (5,5), kind='bar', legend=False)\n",
    "plt.title('Количество покупателей по группам')\n",
    "plt.xlabel('группа клиентов')\n",
    "plt.ylabel('количество клиентов')\n",
    "\n",
    "plt.savefig('ch1.png', bbox_inches='tight')\n",
    "plt.show()"
   ]
  },
  {
   "cell_type": "markdown",
   "metadata": {},
   "source": [
    "В очищенном для анализа наборе данных количество участников программы лояльности составило 1040 клиентов, группа остальных - 1923 клиента."
   ]
  },
  {
   "cell_type": "code",
   "execution_count": 29,
   "metadata": {},
   "outputs": [],
   "source": [
    "# создание вспомогательного массива уникальных значений дат и групп\n",
    "grs = rep[['purchasedate','loyalty_program']].drop_duplicates()"
   ]
  },
  {
   "cell_type": "code",
   "execution_count": 30,
   "metadata": {},
   "outputs": [
    {
     "data": {
      "text/html": [
       "<div>\n",
       "<style scoped>\n",
       "    .dataframe tbody tr th:only-of-type {\n",
       "        vertical-align: middle;\n",
       "    }\n",
       "\n",
       "    .dataframe tbody tr th {\n",
       "        vertical-align: top;\n",
       "    }\n",
       "\n",
       "    .dataframe thead th {\n",
       "        text-align: right;\n",
       "    }\n",
       "</style>\n",
       "<table border=\"1\" class=\"dataframe\">\n",
       "  <thead>\n",
       "    <tr style=\"text-align: right;\">\n",
       "      <th></th>\n",
       "      <th>purchasedate</th>\n",
       "      <th>loyalty_program</th>\n",
       "      <th>purchaseid</th>\n",
       "      <th>customerid</th>\n",
       "      <th>revenue</th>\n",
       "    </tr>\n",
       "  </thead>\n",
       "  <tbody>\n",
       "    <tr>\n",
       "      <td>0</td>\n",
       "      <td>2016-12-01</td>\n",
       "      <td>0</td>\n",
       "      <td>24</td>\n",
       "      <td>21</td>\n",
       "      <td>11453.577353</td>\n",
       "    </tr>\n",
       "    <tr>\n",
       "      <td>8</td>\n",
       "      <td>2016-12-01</td>\n",
       "      <td>1</td>\n",
       "      <td>7</td>\n",
       "      <td>7</td>\n",
       "      <td>6140.318083</td>\n",
       "    </tr>\n",
       "    <tr>\n",
       "      <td>33</td>\n",
       "      <td>2016-12-02</td>\n",
       "      <td>0</td>\n",
       "      <td>81</td>\n",
       "      <td>73</td>\n",
       "      <td>42326.021071</td>\n",
       "    </tr>\n",
       "  </tbody>\n",
       "</table>\n",
       "</div>"
      ],
      "text/plain": [
       "   purchasedate  loyalty_program  purchaseid  customerid       revenue\n",
       "0    2016-12-01                0          24          21  11453.577353\n",
       "8    2016-12-01                1           7           7   6140.318083\n",
       "33   2016-12-02                0          81          73  42326.021071"
      ]
     },
     "execution_count": 30,
     "metadata": {},
     "output_type": "execute_result"
    }
   ],
   "source": [
    "# агрегирование кумулятивных данных по выручке относительно дат проведения теста\n",
    "rev_agg = grs.apply(\n",
    "                    lambda x: rep[np.logical_and(rep['purchasedate'] <= x['purchasedate'],\n",
    "                              rep['loyalty_program'] == x['loyalty_program'])]\n",
    "                             .agg(\n",
    "                             {'purchasedate': 'max', \n",
    "                             'loyalty_program': 'max', \n",
    "                             'purchaseid': pd.Series.nunique, \n",
    "                             'customerid':pd.Series.nunique,\n",
    "                             'revenue': 'sum'}\n",
    "                    )\n",
    "                     , axis = 1)\\\n",
    "            .sort_values(by = ['purchasedate', 'loyalty_program'])\n",
    "\n",
    "rev_agg.head(3)"
   ]
  },
  {
   "cell_type": "code",
   "execution_count": 31,
   "metadata": {},
   "outputs": [
    {
     "data": {
      "text/html": [
       "<div>\n",
       "<style scoped>\n",
       "    .dataframe tbody tr th:only-of-type {\n",
       "        vertical-align: middle;\n",
       "    }\n",
       "\n",
       "    .dataframe tbody tr th {\n",
       "        vertical-align: top;\n",
       "    }\n",
       "\n",
       "    .dataframe thead th {\n",
       "        text-align: right;\n",
       "    }\n",
       "</style>\n",
       "<table border=\"1\" class=\"dataframe\">\n",
       "  <thead>\n",
       "    <tr style=\"text-align: right;\">\n",
       "      <th></th>\n",
       "      <th>purchasedate</th>\n",
       "      <th>loyalty_program</th>\n",
       "      <th>purchaseid</th>\n",
       "      <th>customerid</th>\n",
       "      <th>revenue</th>\n",
       "      <th>rev_one</th>\n",
       "    </tr>\n",
       "  </thead>\n",
       "  <tbody>\n",
       "    <tr>\n",
       "      <td>8</td>\n",
       "      <td>2016-12-01</td>\n",
       "      <td>1</td>\n",
       "      <td>7</td>\n",
       "      <td>7</td>\n",
       "      <td>6140.318083</td>\n",
       "      <td>11.023910</td>\n",
       "    </tr>\n",
       "    <tr>\n",
       "      <td>31</td>\n",
       "      <td>2016-12-02</td>\n",
       "      <td>1</td>\n",
       "      <td>42</td>\n",
       "      <td>38</td>\n",
       "      <td>22328.077020</td>\n",
       "      <td>40.086314</td>\n",
       "    </tr>\n",
       "    <tr>\n",
       "      <td>123</td>\n",
       "      <td>2016-12-03</td>\n",
       "      <td>1</td>\n",
       "      <td>78</td>\n",
       "      <td>70</td>\n",
       "      <td>43233.885446</td>\n",
       "      <td>77.619184</td>\n",
       "    </tr>\n",
       "  </tbody>\n",
       "</table>\n",
       "</div>"
      ],
      "text/plain": [
       "    purchasedate  loyalty_program  purchaseid  customerid       revenue  \\\n",
       "8     2016-12-01                1           7           7   6140.318083   \n",
       "31    2016-12-02                1          42          38  22328.077020   \n",
       "123   2016-12-03                1          78          70  43233.885446   \n",
       "\n",
       "       rev_one  \n",
       "8    11.023910  \n",
       "31   40.086314  \n",
       "123  77.619184  "
      ]
     },
     "execution_count": 31,
     "metadata": {},
     "output_type": "execute_result"
    }
   ],
   "source": [
    "rev_agg_A = rev_agg[rev_agg['loyalty_program'] == 0]\n",
    "rev_agg_A['rev_one'] = rev_agg_A['revenue']/int(AB[AB.index == 0]['customerid'])\n",
    "rev_agg_A\n",
    "\n",
    "rev_agg_B = rev_agg[rev_agg['loyalty_program'] == 1]\n",
    "rev_agg_B['rev_one'] = rev_agg_B['revenue']/int(AB[AB.index == 1]['customerid'])\n",
    "rev_agg_B.head(3)"
   ]
  },
  {
   "cell_type": "code",
   "execution_count": 32,
   "metadata": {},
   "outputs": [
    {
     "data": {
      "image/png": "[encoded data removed]",
      "text/plain": [
       "<Figure size 1080x360 with 2 Axes>"
      ]
     },
     "metadata": {},
     "output_type": "display_data"
    }
   ],
   "source": [
    "# определение параметров фигуры для вывода двух графиков в одной строке\n",
    "fig, ax = plt.subplots(1,2, figsize = (15,5))\n",
    "fig.suptitle('Средняя кумулятивная выручка по группам теста:', fontsize=18)\n",
    "\n",
    "# построение графика кум-ой выручки для группы А\n",
    "ax[0].plot(rev_agg_A['purchasedate'], rev_agg_A['rev_one'], label = 'A')\n",
    "\n",
    "# построение графика кум-ой выручки для группы B\n",
    "ax[0].plot(rev_agg_B['purchasedate'], rev_agg_B['rev_one'], label = 'B')\n",
    "ax[0].set_title('сумма')\n",
    "ax[0].set_xlabel('даты проведения теста')\n",
    "ax[0].set_ylabel('средний чек, руб.')\n",
    "ax[0].legend()\n",
    "ax[0].tick_params(axis='x', rotation=45)\n",
    "\n",
    "# построение графика относительного отличия средней выручки\n",
    "\n",
    "# подготовка данных, объединение данных по обеим группам\n",
    "rev_agg_AB_2 = rev_agg_A.merge(\n",
    "                             rev_agg_B, \n",
    "                             left_on = 'purchasedate', \n",
    "                             right_on = 'purchasedate', \n",
    "                             suffixes = ['A', 'B']\n",
    "                             )\n",
    "\n",
    "# построение графика с маркерной горизонтальной осью\n",
    "ax[1].plot(\n",
    "         rev_agg_AB_2['purchasedate'],\n",
    "         (rev_agg_AB_2['rev_oneB']  / rev_agg_AB_2['rev_oneA']  - 1))\n",
    "          \n",
    "\n",
    "ax[1].axhline(y=0, color='black', linestyle='--')\n",
    "\n",
    "ax[1].set_title('относительное изменение, (B к A)')\n",
    "ax[1].set_xlabel('даты проведения теста')\n",
    "ax[1].set_ylabel('отношение')\n",
    "ax[1].tick_params(axis='x', rotation=45)\n",
    "\n",
    "plt.savefig('ch2.png', bbox_inches='tight')\n",
    "plt.show()"
   ]
  },
  {
   "cell_type": "markdown",
   "metadata": {},
   "source": [
    "Выручка группы участников программы лояльности в расчёте на покупателя на конец анализируемого периода больше на 18\n",
    "% или 180 руб. При этом наблюдается стабилизация относительной разницы на данне уровне после снижения с 50% пика декабря."
   ]
  },
  {
   "cell_type": "markdown",
   "metadata": {},
   "source": [
    "### 4.2 Оценка среднего чека по группам клиентов<a class=\"anchor\" id=\"4.2-bullet\"></a>"
   ]
  },
  {
   "cell_type": "code",
   "execution_count": 33,
   "metadata": {},
   "outputs": [
    {
     "data": {
      "image/png": "[encoded data removed]",
      "text/plain": [
       "<Figure size 1080x360 with 2 Axes>"
      ]
     },
     "metadata": {},
     "output_type": "display_data"
    }
   ],
   "source": [
    "# определение параметров фигуры для вывода двух графиков в одной строке\n",
    "fig, ax = plt.subplots(1,2, figsize = (15,5))\n",
    "fig.suptitle('Кумулятивный средний чек:', fontsize=18)\n",
    "\n",
    "# построение графиков средних чеков по группам. Величина чека определяется как подневное\n",
    "# отношение выручки к количеству чеков.\n",
    "ax[0].plot(rev_agg_A['purchasedate'], \n",
    "           rev_agg_A['revenue'] / rev_agg_A['purchaseid'],\n",
    "           label = 'A')\n",
    "ax[0].plot(rev_agg_B['purchasedate'], \n",
    "           rev_agg_B['revenue'] / rev_agg_B['purchaseid'], \n",
    "           label = 'B')\n",
    "\n",
    "ax[0].set_title('сумма')\n",
    "ax[0].set_xlabel('даты проведения теста')\n",
    "ax[0].set_ylabel('средний чек, руб.')\n",
    "ax[0].legend()\n",
    "ax[0].tick_params(axis='x', rotation=45)\n",
    "\n",
    "\n",
    "# построение графика относительного отличия среднего чека\n",
    "\n",
    "# подготовка данных, объединение данных по обеим группам\n",
    "rev_agg_AB = rev_agg_A.merge(\n",
    "                             rev_agg_B, \n",
    "                             left_on = 'purchasedate', \n",
    "                             right_on = 'purchasedate', \n",
    "                             suffixes = ['A', 'B']\n",
    "                             )\n",
    "\n",
    "# построение графика с маркерной горизонтальной осью\n",
    "ax[1].plot(\n",
    "         rev_agg_AB['purchasedate'],\n",
    "         (rev_agg_AB['revenueB'] / rev_agg_AB['purchaseidB']) / \n",
    "         (rev_agg_AB['revenueA'] / rev_agg_AB['purchaseidA']) - 1\n",
    "          )\n",
    "\n",
    "ax[1].axhline(y=0, color='black', linestyle='--')\n",
    "\n",
    "ax[1].set_title('относительное изменение, (B к A)')\n",
    "ax[1].set_xlabel('даты проведения теста')\n",
    "ax[1].set_ylabel('отношение')\n",
    "ax[1].tick_params(axis='x', rotation=45)\n",
    "plt.savefig('ch3.png', bbox_inches='tight')\n",
    "plt.show()"
   ]
  },
  {
   "cell_type": "markdown",
   "metadata": {},
   "source": [
    "Средний чек участников программы лояльности выше на 10% или 50 руб."
   ]
  },
  {
   "cell_type": "markdown",
   "metadata": {},
   "source": [
    "### 4.3 Оценка количества покупок по группам клиентов<a class=\"anchor\" id=\"4.3-bullet\"></a>"
   ]
  },
  {
   "cell_type": "code",
   "execution_count": 34,
   "metadata": {},
   "outputs": [],
   "source": [
    "# агрегирование кумулятивных данных по кол-ву чеков относительно дат проведения теста\n",
    "pur_agg = grs.apply(\n",
    "                    lambda x: rep[np.logical_and(rep['purchasedate'] <= x['purchasedate'],\n",
    "                              rep['loyalty_program'] == x['loyalty_program'])]\n",
    "                             .agg(\n",
    "                             {'purchasedate': 'max', \n",
    "                             'loyalty_program': 'max',\n",
    "                              'customerid': 'count',\n",
    "                             'purchaseid':'count'}\n",
    "                    )\n",
    "                     , axis = 1)\\\n",
    "            .sort_values(by = ['purchasedate', 'loyalty_program'])\n",
    "\n",
    "# разделение данных о количестве чеков по группам покупателей\n",
    "pur_agg_A = rev_agg[rev_agg['loyalty_program'] == 0]\n",
    "pur_agg_B = rev_agg[rev_agg['loyalty_program'] == 1]"
   ]
  },
  {
   "cell_type": "code",
   "execution_count": 35,
   "metadata": {},
   "outputs": [
    {
     "data": {
      "image/png": "[encoded data removed]",
      "text/plain": [
       "<Figure size 1080x360 with 2 Axes>"
      ]
     },
     "metadata": {},
     "output_type": "display_data"
    }
   ],
   "source": [
    "fig, ax = plt.subplots(1,2, figsize = (15,5))\n",
    "fig.suptitle('Кумулятивные показатели количества чеков на покупателя:', fontsize=18)\n",
    "\n",
    "# построение графиков средних чеков по группам. Величина чека определяется как подневное\n",
    "# отношение выручки к количеству чеков.\n",
    "ax[0].plot(pur_agg_A['purchasedate'], \n",
    "           pur_agg_A['purchaseid']/pur_agg_A['customerid'],\n",
    "           label = 'A')\n",
    "ax[0].plot(pur_agg_B['purchasedate'], \n",
    "           pur_agg_B['purchaseid']/pur_agg_B['customerid'], \n",
    "           label = 'B')\n",
    "\n",
    "ax[0].set_title('сумма')\n",
    "ax[0].set_xlabel('даты проведения теста')\n",
    "ax[0].set_ylabel('средний чек, руб.')\n",
    "ax[0].legend()\n",
    "ax[0].tick_params(axis='x', rotation=45)\n",
    "\n",
    "# построение графика относительного отличия количества чеков\n",
    "\n",
    "# подготовка данных, объединение данных по обеим группам\n",
    "pur_agg_AB = pur_agg_A.merge(\n",
    "                             pur_agg_B, \n",
    "                             left_on = 'purchasedate', \n",
    "                             right_on = 'purchasedate', \n",
    "                             suffixes = ['A', 'B']\n",
    "                             )\n",
    "\n",
    "# построение графика с маркерной горизонтальной осью\n",
    "ax[1].plot(\n",
    "         pur_agg_AB['purchasedate'],\n",
    "         (pur_agg_AB['purchaseidB'] / pur_agg_AB['customeridB']) / \n",
    "         (pur_agg_AB['purchaseidA'] / pur_agg_AB['customeridA']) - 1\n",
    "          )\n",
    "\n",
    "ax[1].axhline(y=0, color='black', linestyle='--')\n",
    "\n",
    "ax[1].set_title('относительное изменение, (B к A)')\n",
    "ax[1].set_xlabel('даты проведения теста')\n",
    "ax[1].set_ylabel('отношение')\n",
    "ax[1].tick_params(axis='x', rotation=45)\n",
    "plt.savefig('ch4.png', bbox_inches='tight')\n",
    "plt.show()"
   ]
  },
  {
   "cell_type": "markdown",
   "metadata": {},
   "source": [
    "Количество покупок каждого клиента сопоставимо растёт для каждой группы и находится на уровне 1.8 покупки, однако участники программы лояльности на конец анализируемого периода покупают немного больше - на 6%."
   ]
  },
  {
   "cell_type": "markdown",
   "metadata": {},
   "source": [
    "### 4.4 Расчёт показателей статистической значимости и проверка гипотез<a class=\"anchor\" id=\"4.4-bullet\"></a>"
   ]
  },
  {
   "cell_type": "markdown",
   "metadata": {},
   "source": [
    "Проверке подлежат двухсторонние гипотезы для двух групп клиентов:\n",
    "\n",
    "- группа А - клиенты, не участвующие в программе лояльности,\n",
    "- группа В - клиенты -участники программы лояльности."
   ]
  },
  {
   "cell_type": "markdown",
   "metadata": {},
   "source": [
    "#### 4.4.1 Средний чек<a class=\"anchor\" id=\"4.4.2-bullet\"></a>"
   ]
  },
  {
   "cell_type": "markdown",
   "metadata": {},
   "source": [
    "Гипотезы к проверке\n",
    "\n",
    "H0: Статистически значимые отличия в среднем чеке групп А и В отсутствуют.\n",
    "\n",
    "Н1: Есть статистически значимые отличия в среднем чеке групп А и В."
   ]
  },
  {
   "cell_type": "code",
   "execution_count": 36,
   "metadata": {},
   "outputs": [
    {
     "data": {
      "text/html": [
       "<div>\n",
       "<style scoped>\n",
       "    .dataframe tbody tr th:only-of-type {\n",
       "        vertical-align: middle;\n",
       "    }\n",
       "\n",
       "    .dataframe tbody tr th {\n",
       "        vertical-align: top;\n",
       "    }\n",
       "\n",
       "    .dataframe thead th {\n",
       "        text-align: right;\n",
       "    }\n",
       "</style>\n",
       "<table border=\"1\" class=\"dataframe\">\n",
       "  <thead>\n",
       "    <tr style=\"text-align: right;\">\n",
       "      <th></th>\n",
       "      <th>purchaseid</th>\n",
       "      <th>purchasedate</th>\n",
       "      <th>customerid</th>\n",
       "      <th>loyalty_program</th>\n",
       "      <th>revenue</th>\n",
       "      <th>fee_month</th>\n",
       "      <th>month_fee</th>\n",
       "    </tr>\n",
       "  </thead>\n",
       "  <tbody>\n",
       "    <tr>\n",
       "      <td>0</td>\n",
       "      <td>536367</td>\n",
       "      <td>2016-12-01</td>\n",
       "      <td>18726</td>\n",
       "      <td>0</td>\n",
       "      <td>295.58875</td>\n",
       "      <td>12</td>\n",
       "      <td>0.0</td>\n",
       "    </tr>\n",
       "    <tr>\n",
       "      <td>1</td>\n",
       "      <td>536368</td>\n",
       "      <td>2016-12-01</td>\n",
       "      <td>18726</td>\n",
       "      <td>0</td>\n",
       "      <td>84.47000</td>\n",
       "      <td>12</td>\n",
       "      <td>0.0</td>\n",
       "    </tr>\n",
       "    <tr>\n",
       "      <td>2</td>\n",
       "      <td>536369</td>\n",
       "      <td>2016-12-01</td>\n",
       "      <td>18726</td>\n",
       "      <td>0</td>\n",
       "      <td>16.60000</td>\n",
       "      <td>12</td>\n",
       "      <td>0.0</td>\n",
       "    </tr>\n",
       "  </tbody>\n",
       "</table>\n",
       "</div>"
      ],
      "text/plain": [
       "   purchaseid purchasedate  customerid  loyalty_program    revenue  fee_month  \\\n",
       "0      536367   2016-12-01       18726                0  295.58875         12   \n",
       "1      536368   2016-12-01       18726                0   84.47000         12   \n",
       "2      536369   2016-12-01       18726                0   16.60000         12   \n",
       "\n",
       "   month_fee  \n",
       "0        0.0  \n",
       "1        0.0  \n",
       "2        0.0  "
      ]
     },
     "execution_count": 36,
     "metadata": {},
     "output_type": "execute_result"
    }
   ],
   "source": [
    "# исходные данные для проверки\n",
    "rep.head(3)"
   ]
  },
  {
   "cell_type": "code",
   "execution_count": 37,
   "metadata": {},
   "outputs": [
    {
     "name": "stdout",
     "output_type": "stream",
     "text": [
      "Оценка статистической значимости отличия по среднему чеку\n",
      "\n",
      "Критерий Манна-Уитни для среднего чека: 0.000.\n",
      "Относительное отличие вмежду группами: -9%.\n"
     ]
    }
   ],
   "source": [
    "# применение критерия Манна-Уитни для среднего чека\n",
    "\n",
    "print('Оценка статистической значимости отличия по среднему чеку')\n",
    "print()\n",
    "print('Критерий Манна-Уитни для среднего чека: {0:.3f}.'.format\\\n",
    "    (stats.mannwhitneyu\n",
    "    (rep[rep['loyalty_program'] == 0]['revenue'], \n",
    "     rep[rep['loyalty_program'] == 1]['revenue'])\n",
    "    [1]))\n",
    "\n",
    "# расчёт относительного отличия в среднем чеке\n",
    "print('Относительное отличие вмежду группами: {:.0%}.'.format\\\n",
    "                        (rep[rep['loyalty_program'] == 0]['revenue'].mean() /\n",
    "                        rep[rep['loyalty_program'] == 1]['revenue'].mean() - 1))"
   ]
  },
  {
   "cell_type": "markdown",
   "metadata": {},
   "source": [
    "Таким образом, нулевая гипотеза об отсутствии статистически значимых отличий в среднем чеке отвергается и подтверждается среднее за анализируемый период преимущество группы участников программы лояльности в 9%."
   ]
  },
  {
   "cell_type": "markdown",
   "metadata": {},
   "source": [
    "#### 4.4.2 Количество покупок<a class=\"anchor\" id=\"4.4.3-bullet\"></a>"
   ]
  },
  {
   "cell_type": "markdown",
   "metadata": {},
   "source": [
    "Гипотезы к проверке\n",
    "\n",
    "H0: Статистически значимые отличия в среднем количестве покупок групп А и В отсутствуют.\n",
    "\n",
    "Н1: Есть статистически значимые отличия в среднем количестве покупок групп А и В."
   ]
  },
  {
   "cell_type": "code",
   "execution_count": 38,
   "metadata": {},
   "outputs": [
    {
     "name": "stdout",
     "output_type": "stream",
     "text": [
      "Оценка статистической значимости отличия в среднем количестве покупок\n",
      "\n",
      "Критерий Манна-Уитни для среднего количества покупок: 0.000.\n",
      "Относительное отличие между группами: -3%.\n"
     ]
    }
   ],
   "source": [
    "# применение критерия Манна-Уитни для среднего количества покупок\n",
    "print('Оценка статистической значимости отличия в среднем количестве покупок')\n",
    "print()\n",
    "print('Критерий Манна-Уитни для среднего количества покупок: {0:.3f}.'.format\\\n",
    "    (stats.mannwhitneyu\n",
    "    (pur_agg[pur_agg['loyalty_program'] == 0]['purchaseid'], \n",
    "     pur_agg[pur_agg['loyalty_program'] == 1]['purchaseid'])\n",
    "    [1]))\n",
    "\n",
    "# расчёт относительного отличия для среднего количества покупок\n",
    "print('Относительное отличие между группами: {:.0%}.'.format\\\n",
    "                        ((pur_agg_AB['purchaseidA'] / pur_agg_AB['customeridA']).mean() / \n",
    "                        (pur_agg_AB['purchaseidB'] / pur_agg_AB['customeridB']).mean() - 1))"
   ]
  },
  {
   "cell_type": "markdown",
   "metadata": {},
   "source": [
    "Таким образом, нулевая гипотеза об отсутствии статистически значимых отличий в среднем количестве покупок отвергается и фиксируется среднее за анализируемый период преимущество группы участников программы лояльности на 3%."
   ]
  },
  {
   "cell_type": "markdown",
   "metadata": {},
   "source": [
    "### 4.5 TOP-5 товаров каждой клиентской группы<a class=\"anchor\" id=\"4.5-bullet\"></a>"
   ]
  },
  {
   "cell_type": "markdown",
   "metadata": {},
   "source": [
    "Для определения причин отличий между группами проводится анализ покупательских предпочтений каждой группы. С этой целью выделяется по выручке TOP-5 товаров каждого из анализируемых месяцев и отражается на сводном графике."
   ]
  },
  {
   "cell_type": "code",
   "execution_count": 39,
   "metadata": {},
   "outputs": [],
   "source": [
    "# выделение месяца анализа\n",
    "rep_st['month'] = rep_st['purchasedate'].dt.month_name()"
   ]
  },
  {
   "cell_type": "code",
   "execution_count": 40,
   "metadata": {},
   "outputs": [
    {
     "data": {
      "text/html": [
       "<div>\n",
       "<style scoped>\n",
       "    .dataframe tbody tr th:only-of-type {\n",
       "        vertical-align: middle;\n",
       "    }\n",
       "\n",
       "    .dataframe tbody tr th {\n",
       "        vertical-align: top;\n",
       "    }\n",
       "\n",
       "    .dataframe thead th {\n",
       "        text-align: right;\n",
       "    }\n",
       "</style>\n",
       "<table border=\"1\" class=\"dataframe\">\n",
       "  <thead>\n",
       "    <tr style=\"text-align: right;\">\n",
       "      <th></th>\n",
       "      <th>item_id</th>\n",
       "      <th>loyalty_program</th>\n",
       "      <th>revenue</th>\n",
       "    </tr>\n",
       "  </thead>\n",
       "  <tbody>\n",
       "    <tr>\n",
       "      <td>11</td>\n",
       "      <td>23166</td>\n",
       "      <td>0</td>\n",
       "      <td>77182.560000</td>\n",
       "    </tr>\n",
       "    <tr>\n",
       "      <td>20</td>\n",
       "      <td>M</td>\n",
       "      <td>1</td>\n",
       "      <td>43901.506271</td>\n",
       "    </tr>\n",
       "    <tr>\n",
       "      <td>6</td>\n",
       "      <td>22423</td>\n",
       "      <td>0</td>\n",
       "      <td>35486.395000</td>\n",
       "    </tr>\n",
       "  </tbody>\n",
       "</table>\n",
       "</div>"
      ],
      "text/plain": [
       "   item_id  loyalty_program       revenue\n",
       "11   23166                0  77182.560000\n",
       "20       M                1  43901.506271\n",
       "6    22423                0  35486.395000"
      ]
     },
     "execution_count": 40,
     "metadata": {},
     "output_type": "execute_result"
    }
   ],
   "source": [
    "# выделение групп товаров и расчёт выручки по группам клиентов\n",
    "ite_A = rep_st[rep_st['loyalty_program'] == 0]\\\n",
    "                .groupby(['month', 'item_id', 'loyalty_program'])['revenue']\\\n",
    "                .sum().to_frame().reset_index()\n",
    "\n",
    "ite_B = rep_st[rep_st['loyalty_program'] == 1]\\\n",
    "                .groupby(['month', 'item_id', 'loyalty_program'])['revenue']\\\n",
    "                .sum().to_frame().reset_index()\n",
    "\n",
    "# формирование помесячного рэнкинга\n",
    "ite_A['r'] = ite_A.groupby(['month'])['revenue'].rank(ascending=False)\n",
    "ite_B['r'] = ite_B.groupby(['month'])['revenue'].rank(ascending=False)\n",
    "\n",
    "# выделение TOP-5 товаров помесячно и удаление одного дня марта\n",
    "ite_A = ite_A.query('r <= 5 & month != \"March\"')\n",
    "ite_B = ite_B.query('r <= 5 & month != \"March\"')\n",
    "\n",
    "# формирование сводных данных для удобства визуализации\n",
    "ite_AB = pd.concat([ite_A, ite_B]).sort_values(by='revenue', ascending=False)\n",
    "\n",
    "# объединение выручки одинаковых товаров из разных месячных выборок\n",
    "ite_AB = ite_AB.groupby(['item_id', 'loyalty_program'])\\\n",
    "                        .agg({'revenue':'sum'}).reset_index()\\\n",
    "                        .sort_values(by='revenue', ascending=False)\n",
    "ite_AB.head(3)"
   ]
  },
  {
   "cell_type": "code",
   "execution_count": 41,
   "metadata": {},
   "outputs": [
    {
     "data": {
      "image/png": "[encoded data removed]",
      "text/plain": [
       "<Figure size 1206.47x360 with 1 Axes>"
      ]
     },
     "metadata": {},
     "output_type": "display_data"
    }
   ],
   "source": [
    "# построение графика \n",
    "sns.catplot(x='item_id', y='revenue', hue='loyalty_program',\n",
    "            data=ite_AB, kind='bar', height=5, aspect=3, ci=None)\n",
    "plt.title('ТОР-5 товаров для каждой клиентской группы')\n",
    "plt.xlabel('маркер товара')\n",
    "plt.ylabel('выручка за период')\n",
    "plt.savefig('ch5.png', bbox_inches='tight')\n",
    "plt.show()"
   ]
  },
  {
   "cell_type": "markdown",
   "metadata": {},
   "source": [
    "Таким образом, товарные предпочтения клиентских групп являются разными. Имеющиеся пересечения по товарам \"М\", \"22423\", \"85123A\" имеют ярко выраженный долевой дисбаланс и находятся в рамках общей картины."
   ]
  },
  {
   "cell_type": "markdown",
   "metadata": {},
   "source": [
    "### 4.6 Распределение выручки между  магазинами <a class=\"anchor\" id=\"4.6-bullet\"></a>"
   ]
  },
  {
   "cell_type": "code",
   "execution_count": 42,
   "metadata": {},
   "outputs": [
    {
     "data": {
      "text/html": [
       "<div>\n",
       "<style scoped>\n",
       "    .dataframe tbody tr th:only-of-type {\n",
       "        vertical-align: middle;\n",
       "    }\n",
       "\n",
       "    .dataframe tbody tr th {\n",
       "        vertical-align: top;\n",
       "    }\n",
       "\n",
       "    .dataframe thead th {\n",
       "        text-align: right;\n",
       "    }\n",
       "</style>\n",
       "<table border=\"1\" class=\"dataframe\">\n",
       "  <thead>\n",
       "    <tr style=\"text-align: right;\">\n",
       "      <th></th>\n",
       "      <th>shopid</th>\n",
       "      <th>loyalty_program</th>\n",
       "      <th>revenue</th>\n",
       "      <th>%</th>\n",
       "    </tr>\n",
       "  </thead>\n",
       "  <tbody>\n",
       "    <tr>\n",
       "      <td>0</td>\n",
       "      <td>Shop 0</td>\n",
       "      <td>0</td>\n",
       "      <td>1.205340e+06</td>\n",
       "      <td>52.9</td>\n",
       "    </tr>\n",
       "    <tr>\n",
       "      <td>1</td>\n",
       "      <td>Shop 0</td>\n",
       "      <td>1</td>\n",
       "      <td>6.403606e+05</td>\n",
       "      <td>28.1</td>\n",
       "    </tr>\n",
       "    <tr>\n",
       "      <td>23</td>\n",
       "      <td>Shop 3</td>\n",
       "      <td>0</td>\n",
       "      <td>1.040972e+05</td>\n",
       "      <td>4.6</td>\n",
       "    </tr>\n",
       "    <tr>\n",
       "      <td>27</td>\n",
       "      <td>Shop 6</td>\n",
       "      <td>0</td>\n",
       "      <td>5.862250e+04</td>\n",
       "      <td>2.6</td>\n",
       "    </tr>\n",
       "    <tr>\n",
       "      <td>25</td>\n",
       "      <td>Shop 4</td>\n",
       "      <td>0</td>\n",
       "      <td>5.485476e+04</td>\n",
       "      <td>2.4</td>\n",
       "    </tr>\n",
       "  </tbody>\n",
       "</table>\n",
       "</div>"
      ],
      "text/plain": [
       "    shopid  loyalty_program       revenue     %\n",
       "0   Shop 0                0  1.205340e+06  52.9\n",
       "1   Shop 0                1  6.403606e+05  28.1\n",
       "23  Shop 3                0  1.040972e+05   4.6\n",
       "27  Shop 6                0  5.862250e+04   2.6\n",
       "25  Shop 4                0  5.485476e+04   2.4"
      ]
     },
     "execution_count": 42,
     "metadata": {},
     "output_type": "execute_result"
    }
   ],
   "source": [
    "# группировка данных по выручке в разрезе магазинов и групп клиентов\n",
    "\n",
    "sho = rep_st.groupby(['shopid', 'loyalty_program'])['revenue']\\\n",
    "            .sum().to_frame().reset_index()\n",
    "\n",
    "# оценка долей выручки по магазинам\n",
    "\n",
    "sho['%'] = round((sho['revenue']/(sho['revenue'].sum())*100),1)\n",
    "sho = sho.sort_values(by='%', ascending=False)\n",
    "sho.head()"
   ]
  },
  {
   "cell_type": "markdown",
   "metadata": {},
   "source": [
    "Большая часть выручки обоих групп формируется в магазиние \"Shop 0\": для участников программы - 28%, для остальных клиентов - 53%."
   ]
  },
  {
   "cell_type": "code",
   "execution_count": 43,
   "metadata": {},
   "outputs": [],
   "source": [
    "# из-за превалирования Shop 0 выделяются две группы данных для отдельной визуализации\n",
    "\n",
    "sho_oth = sho[sho['shopid'] != 'Shop 0']\n",
    "sho_0 = sho[sho['shopid'] == 'Shop 0']"
   ]
  },
  {
   "cell_type": "code",
   "execution_count": 44,
   "metadata": {},
   "outputs": [
    {
     "data": {
      "image/png": "[encoded data removed]",
      "text/plain": [
       "<Figure size 414.475x288 with 1 Axes>"
      ]
     },
     "metadata": {},
     "output_type": "display_data"
    }
   ],
   "source": [
    "# построение графика выручки для Shop0\n",
    "\n",
    "sns.catplot(x='shopid', y='revenue', hue='loyalty_program',\n",
    "            data=sho_0, kind='bar', height=4, aspect=1, ci=None)\n",
    "plt.title('Выручка в магазине по группам клиентов')\n",
    "plt.xlabel('магазин')\n",
    "plt.ylabel('выручка за период')\n",
    "plt.savefig('ch6.png', bbox_inches='tight')\n",
    "plt.show()"
   ]
  },
  {
   "cell_type": "code",
   "execution_count": 45,
   "metadata": {},
   "outputs": [
    {
     "data": {
      "image/png": "[encoded data removed]",
      "text/plain": [
       "<Figure size 1206.47x432 with 1 Axes>"
      ]
     },
     "metadata": {},
     "output_type": "display_data"
    }
   ],
   "source": [
    "# построение графика выручки для остальных магазинов\n",
    "\n",
    "sns.catplot(x='shopid', y='revenue', hue='loyalty_program',\n",
    "            data=sho_oth, kind='bar', height=6, aspect=2.5, ci=None)\n",
    "plt.title('Выручка в магазинах по группам клиентов')\n",
    "plt.xlabel('магазин')\n",
    "plt.ylabel('выручка за период')\n",
    "plt.xticks(rotation=45)\n",
    "plt.savefig('ch7.png', bbox_inches='tight')\n",
    "plt.show()"
   ]
  },
  {
   "cell_type": "markdown",
   "metadata": {},
   "source": [
    "Таким образом, остальные магазины сети практически не задействованы в программе лояльности. Из общего ряда выделяются только Shop 19 и Shop 28, где подавляюще большая часть выручки формируется участниками программы лояльности."
   ]
  },
  {
   "cell_type": "markdown",
   "metadata": {},
   "source": [
    "## 5. Выводы и рекомендации<a class=\"anchor\" id=\"5-bullet\"></a>"
   ]
  },
  {
   "cell_type": "markdown",
   "metadata": {},
   "source": [
    "*Выводы*\n",
    "\n",
    "При первичной обработке данных были выявленны аномалии:\n",
    "\n",
    "- информация о датах представлена типом данных 'object';\n",
    "- в количестве покупок имеются нулевые и отрицательные значения;\n",
    "- имеются 36210 пропущенных значений id покупателя;\n",
    "- количество значений id товара меньше, чем количество строк, т.е. одинаковые товары занесены в БД с разными ценами.\n",
    "\n",
    "После удаления выбивающихся из логики исследования данных можно выделить следующие особенности очищенного датасета:\n",
    "\n",
    "- количество строк уменьшилось на 49%, с 105 тыс. до 54 тыс. строк;\n",
    "- количество чеков уменьшилось на 32%, с 4,9 тыс. до 3,3 тыс. чеков;\n",
    "- количество уникальных покупателей на 6%, с 1,7 тыс. до 1,6 тыс. покупателей.\n",
    "\n",
    "После анализа статистическими выбросами определено:\n",
    " - количество чеков - 11 чеков,\n",
    " - сумма чека - 5940 руб. и выше.\n",
    " \n",
    "В очищенном для анализа наборе данных количество участников программы лояльности составило 557 клиентов, группа остальных - 1090 клиента.\n",
    " \n",
    "Выявлено, что средний чек участников программы лояльности на конец анализируемого периода выше на 10% или на 9% в среднем за период и эта преимущество сохранялось на протяжении всего анализируемого периода.\n",
    " \n",
    "Количество покупок каждого клиента сопоставимо растёт для каждой группы и находится на уровне 1.8 покупки, однако участники программы лояльности покупают на конец анализируемого немного больше - на 6% или в среднем на 3% за весь период.\n",
    " \n",
    "Статистически значимые отличия в метриках потверждены статистически критерием Манна-Уитни .\n",
    " \n",
    "Товарные предпочтения клиентских групп являются разными. Имеющиеся пересечения по товарам \"М\", \"22423\", \"85123A\" имеют ярко выраженный долевой дисбаланс и находятся в рамках общей картины.\n",
    " \n",
    "Большинство магазинов сети практически не задействованы в программе лояльности. Из общего ряда выделяются только Shop 19 и Shop 28, где подавляюще большая часть выручки формируется участниками программы лояльности.\n",
    " "
   ]
  },
  {
   "cell_type": "markdown",
   "metadata": {},
   "source": [
    "*Рекомендации*\n",
    "\n",
    "Признать программу лояльности соответствующей бизнес-задачам и провести мероприятия по развитию выявленных зон роста.\n",
    "\n",
    "С учётом выявленных особенностей предлагается изменить условия программы для включения в её периметр всех видов товаров, провести дополнительное изучение причин слабой покупательской активности участников программмы во всех магазинах сети, после изменений условий программы провести информационное воздействие на клиентов.\n"
   ]
  }
 ],
 "metadata": {
  "kernelspec": {
   "display_name": "Python 3",
   "language": "python",
   "name": "python3"
  },
  "language_info": {
   "codemirror_mode": {
    "name": "ipython",
    "version": 3
   },
   "file_extension": ".py",
   "mimetype": "text/x-python",
   "name": "python",
   "nbconvert_exporter": "python",
   "pygments_lexer": "ipython3",
   "version": "3.7.6"
  }
 },
 "nbformat": 4,
 "nbformat_minor": 2
}
